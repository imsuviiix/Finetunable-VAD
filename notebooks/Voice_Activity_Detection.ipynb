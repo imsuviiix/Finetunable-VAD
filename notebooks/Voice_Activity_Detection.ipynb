{
    "cells": [
        {
            "cell_type": "code",
            "execution_count": null,
            "metadata": {
                "colab": {},
                "colab_type": "code",
                "id": "R12Yn6W1dt9t"
            },
            "outputs": [],
            "source": [
                "\"\"\"\n",
                "You can run either this notebook locally (if you have all the dependencies and a GPU) or on Google Colab.\n",
                "\n",
                "Instructions for setting up Colab are as follows:\n",
                "1. Open a new Python 3 notebook.\n",
                "2. Import this notebook from GitHub (File -> Upload Notebook -> \"GITHUB\" tab -> copy/paste GitHub URL)\n",
                "3. Connect to an instance with a GPU (Runtime -> Change runtime type -> select \"GPU\" for hardware accelerator)\n",
                "4. Run this cell to set up dependencies.\n",
                "\n",
                "\n",
                "NOTE: User is responsible for checking the content of datasets and the applicable licenses and determining if suitable for the intended use.\n",
                "\"\"\"\n",
                "# If you're using Google Colab and not running locally, run this cell.\n",
                "\n",
                "## Install dependencies\n",
                "!pip install wget\n",
                "!apt-get install sox libsndfile1 ffmpeg\n",
                "!pip install text-unidecode\n",
                "\n",
                "# ## Install NeMo\n",
                "BRANCH = 'main'\n",
                "!python -m pip install git+https://github.com/NVIDIA/NeMo.git@$BRANCH#egg=nemo_toolkit[asr]\n",
                "\n",
                "## Install TorchAudio\n",
                "!pip install torchaudio>=0.13.0 -f https://download.pytorch.org/whl/torch_stable.html\n",
                "\n",
                "## Grab the config we'll use in this example\n",
                "!mkdir configs"
            ]
        },
        {
            "attachments": {},
            "cell_type": "markdown",
            "metadata": {},
            "source": [
                "# Introduction\n",
                "\n",
                "This VAD tutorial is based on the MarbleNet model from paper \"[MarbleNet: Deep 1D Time-Channel Separable Convolutional Neural Network for Voice Activity Detection](https://arxiv.org/abs/2010.13886)\", which is an modification and extension of [MatchboxNet](https://arxiv.org/abs/2004.08531). \n",
                "\n",
                "The notebook will follow the steps below:\n",
                "\n",
                " - Dataset preparation: Instruction of downloading datasets. And how to convert it to a format suitable for use with nemo_asr\n",
                " - Audio preprocessing (feature extraction): signal normalization, windowing, (log) spectrogram (or mel scale spectrogram, or MFCC)\n",
                "\n",
                " - Data augmentation using SpecAugment \"[SpecAugment: A Simple Data Augmentation Method for Automatic Speech Recognition](https://arxiv.org/abs/1904.08779)\" to increase number of data samples.\n",
                " \n",
                " - Develop a small Neural classification model which can be trained efficiently.\n",
                " \n",
                " - Model training on the Google Speech Commands dataset and Freesound dataset in NeMo.\n",
                " \n",
                " - Evaluation of error cases of the model by audibly hearing the samples\n",
                " \n",
                " - Add more evaluation metrics and transfer learning/fine tune\n",
                " "
            ]
        },
        {
            "cell_type": "code",
            "execution_count": 1,
            "metadata": {
                "colab": {},
                "colab_type": "code",
                "id": "I62_LJzc-p2b"
            },
            "outputs": [],
            "source": [
                "# Some utility imports\n",
                "import os\n",
                "from omegaconf import OmegaConf"
            ]
        },
        {
            "attachments": {},
            "cell_type": "markdown",
            "metadata": {
                "colab": {},
                "colab_type": "text",
                "id": "K_M8wpkwd7d7"
            },
            "source": [
                "# Data Preparation\n",
                "\n",
                "## Download the background data\n",
                "We suggest to use the background categories of [freesound](https://freesound.org/) dataset  as our non-speech/background data. \n",
                "We provide scripts for downloading and resampling it. Please have a look at Data Preparation part in NeMo docs. Note that downloading this dataset may takes hours. \n",
                "\n",
                "**NOTE:** Here, this tutorial serves as a demonstration on how to train and evaluate models for vad using NeMo. We avoid using freesound dataset, and use `_background_noise_` category in Google Speech Commands Dataset as non-speech/background data."
            ]
        },
        {
            "attachments": {},
            "cell_type": "markdown",
            "metadata": {},
            "source": [
                "## Download the speech data\n",
                "   \n",
                "We will use the open source Google Speech Commands Dataset (we will use V2 of the dataset for the tutorial, but require very minor changes to support V1 dataset) as our speech data. Google Speech Commands Dataset V2 will take roughly 6GB disk space. These scripts below will download the dataset and convert it to a format suitable for use with nemo_asr.\n",
                "\n",
                "\n",
                "**NOTE**: You may additionally pass `--test_size` or `--val_size` flag for splitting train val and test data.\n",
                "You may additionally pass `--window_length_in_sec` flag for indicating the segment/window length. Default is 0.63s.\n",
                "\n",
                "**NOTE**: You may additionally pass a `--rebalance_method='fixed|over|under'` at the end of the script to rebalance the class samples in the manifest. \n",
                "* 'fixed': Fixed number of samples for each class. For example, train 500, val 100, and test 200. (Change number in script if you want)\n",
                "* 'over': Oversampling rebalance method\n",
                "* 'under': Undersampling rebalance method\n",
                "\n",
                "**NOTE**: We only take a small subset of speech data for demonstration, if you want to use entire speech data. Don't forget to **delete `--demo`** and change rebalance method/number.  `_background_noise_` category only has **6** audio files. So we would like to generate more based on the audio files to enlarge our background training data. If you want to use your own background noise data, just change the `background_data_root` and **delete `--demo`**\n"
            ]
        },
        {
            "cell_type": "code",
            "execution_count": 2,
            "metadata": {},
            "outputs": [],
            "source": [
                "tmp = 'src'\n",
                "data_folder = 'old_data'\n",
                "if not os.path.exists(tmp):\n",
                "    os.makedirs(tmp)\n",
                "if not os.path.exists(data_folder):\n",
                "    os.makedirs(data_folder)"
            ]
        },
        {
            "cell_type": "code",
            "execution_count": null,
            "metadata": {},
            "outputs": [],
            "source": [
                "tmp = 'src'\n",
                "data_folder = 'data'\n",
                "if not os.path.exists(tmp):\n",
                "    os.makedirs(tmp)\n",
                "if not os.path.exists(data_folder):\n",
                "    os.makedirs(data_folder)"
            ]
        },
        {
            "cell_type": "code",
            "execution_count": 5,
            "metadata": {},
            "outputs": [],
            "source": [
                "script = os.path.join(tmp, 'process_vad_data.py') #for Google_Speech(.wav)\n",
                "if not os.path.exists(script):\n",
                "    !wget -P $tmp https://raw.githubusercontent.com/NVIDIA/NeMo/$BRANCH/scripts/dataset_processing/process_vad_data.py"
            ]
        },
        {
            "cell_type": "code",
            "execution_count": 3,
            "metadata": {},
            "outputs": [],
            "source": [
                "script_2 = os.path.join(tmp, 'process_vad_data4flac.py') #for libri_Speech(.flac)"
            ]
        },
        {
            "cell_type": "code",
            "execution_count": 6,
            "metadata": {},
            "outputs": [],
            "source": [
                "speech_data_root = os.path.join(data_folder, 'google_dataset_v2') #for Google_Speech(.wav)\n",
                "background_data_root = os.path.join(data_folder, 'google_dataset_v2/google_speech_recognition_v2/_background_noise_')# your <resampled freesound data directory>\n",
                "out_dir = os.path.join(data_folder, 'manifest')\n",
                "if not os.path.exists(speech_data_root):\n",
                "    os.mkdir(speech_data_root)"
            ]
        },
        {
            "cell_type": "code",
            "execution_count": 4,
            "metadata": {},
            "outputs": [],
            "source": [
                "speech_data_root_2 = os.path.join(data_folder)#for libri_Speech(.flac)\n",
                "background_data_root_2 = os.path.join(data_folder, 'google_dataset_v2/google_speech_recognition_v2/_background_noise_')#before getting NAS dataset, we'll use Google_Speech\n",
                "out_dir = os.path.join(data_folder, 'manifest_2')\n",
                "if not os.path.exists(speech_data_root_2):\n",
                "    os.mkdir(speech_data_root_2)"
            ]
        },
        {
            "cell_type": "code",
            "execution_count": 5,
            "metadata": {},
            "outputs": [
                {
                    "name": "stderr",
                    "output_type": "stream",
                    "text": [
                        "INFO:root:Overall: 845, Train: 675, Validatoin: 85, Test: 85\n",
                        "INFO:root:Finish spliting train, val and test for speech. Write to files!\n",
                        "INFO:root:Split background data!\n",
                        "INFO:root:=== Write speech data to manifest!\n",
                        "DEBUG:numba.core.byteflow:bytecode dump:\n",
                        ">          0\tNOP(arg=None, lineno=1141)\n",
                        "           2\tRESUME(arg=0, lineno=1141)\n",
                        "           4\tLOAD_FAST(arg=0, lineno=1144)\n",
                        "           6\tLOAD_CONST(arg=1, lineno=1144)\n",
                        "           8\tBINARY_SUBSCR(arg=None, lineno=1144)\n",
                        "          18\tSTORE_FAST(arg=3, lineno=1144)\n",
                        "          20\tLOAD_FAST(arg=1, lineno=1145)\n",
                        "          22\tUNARY_NEGATIVE(arg=None, lineno=1145)\n",
                        "          24\tLOAD_FAST(arg=3, lineno=1145)\n",
                        "          26\tSWAP(arg=2, lineno=1145)\n",
                        "          28\tCOPY(arg=2, lineno=1145)\n",
                        "          30\tCOMPARE_OP(arg=1, lineno=1145)\n",
                        "          36\tPOP_JUMP_FORWARD_IF_FALSE(arg=6, lineno=1145)\n",
                        "          38\tLOAD_FAST(arg=1, lineno=1145)\n",
                        "          40\tCOMPARE_OP(arg=1, lineno=1145)\n",
                        "          46\tPOP_JUMP_FORWARD_IF_FALSE(arg=5, lineno=1145)\n",
                        "          48\tJUMP_FORWARD(arg=2, lineno=1145)\n",
                        ">         50\tPOP_TOP(arg=None, lineno=1145)\n",
                        "          52\tJUMP_FORWARD(arg=2, lineno=1145)\n",
                        ">         54\tLOAD_CONST(arg=1, lineno=1146)\n",
                        "          56\tSTORE_FAST(arg=3, lineno=1146)\n",
                        ">         58\tLOAD_FAST(arg=0, lineno=1148)\n",
                        "          60\tLOAD_CONST(arg=2, lineno=1148)\n",
                        "          62\tBINARY_SUBSCR(arg=None, lineno=1148)\n",
                        "          72\tSTORE_FAST(arg=4, lineno=1148)\n",
                        "          74\tLOAD_FAST(arg=1, lineno=1149)\n",
                        "          76\tUNARY_NEGATIVE(arg=None, lineno=1149)\n",
                        "          78\tLOAD_FAST(arg=4, lineno=1149)\n",
                        "          80\tSWAP(arg=2, lineno=1149)\n",
                        "          82\tCOPY(arg=2, lineno=1149)\n",
                        "          84\tCOMPARE_OP(arg=1, lineno=1149)\n",
                        "          90\tPOP_JUMP_FORWARD_IF_FALSE(arg=6, lineno=1149)\n",
                        "          92\tLOAD_FAST(arg=1, lineno=1149)\n",
                        "          94\tCOMPARE_OP(arg=1, lineno=1149)\n",
                        "         100\tPOP_JUMP_FORWARD_IF_FALSE(arg=5, lineno=1149)\n",
                        "         102\tJUMP_FORWARD(arg=2, lineno=1149)\n",
                        ">        104\tPOP_TOP(arg=None, lineno=1149)\n",
                        "         106\tJUMP_FORWARD(arg=2, lineno=1149)\n",
                        ">        108\tLOAD_CONST(arg=1, lineno=1150)\n",
                        "         110\tSTORE_FAST(arg=4, lineno=1150)\n",
                        ">        112\tLOAD_FAST(arg=2, lineno=1152)\n",
                        "         114\tPOP_JUMP_FORWARD_IF_FALSE(arg=42, lineno=1152)\n",
                        "         116\tLOAD_GLOBAL(arg=1, lineno=1153)\n",
                        "         128\tLOAD_ATTR(arg=1, lineno=1153)\n",
                        "         138\tLOAD_FAST(arg=3, lineno=1153)\n",
                        "         140\tPRECALL(arg=1, lineno=1153)\n",
                        "         144\tCALL(arg=1, lineno=1153)\n",
                        "         154\tLOAD_GLOBAL(arg=1, lineno=1153)\n",
                        "         166\tLOAD_ATTR(arg=1, lineno=1153)\n",
                        "         176\tLOAD_FAST(arg=4, lineno=1153)\n",
                        "         178\tPRECALL(arg=1, lineno=1153)\n",
                        "         182\tCALL(arg=1, lineno=1153)\n",
                        "         192\tCOMPARE_OP(arg=3, lineno=1153)\n",
                        "         198\tRETURN_VALUE(arg=None, lineno=1153)\n",
                        ">        200\tLOAD_GLOBAL(arg=1, lineno=1155)\n",
                        "         212\tLOAD_ATTR(arg=2, lineno=1155)\n",
                        "         222\tLOAD_FAST(arg=3, lineno=1155)\n",
                        "         224\tPRECALL(arg=1, lineno=1155)\n",
                        "         228\tCALL(arg=1, lineno=1155)\n",
                        "         238\tLOAD_GLOBAL(arg=1, lineno=1155)\n",
                        "         250\tLOAD_ATTR(arg=2, lineno=1155)\n",
                        "         260\tLOAD_FAST(arg=4, lineno=1155)\n",
                        "         262\tPRECALL(arg=1, lineno=1155)\n",
                        "         266\tCALL(arg=1, lineno=1155)\n",
                        "         276\tCOMPARE_OP(arg=3, lineno=1155)\n",
                        "         282\tRETURN_VALUE(arg=None, lineno=1155)\n",
                        "DEBUG:numba.core.byteflow:pending: deque([State(pc_initial=0 nstack_initial=0)])\n",
                        "DEBUG:numba.core.byteflow:stack: []\n",
                        "DEBUG:numba.core.byteflow:state.pc_initial: State(pc_initial=0 nstack_initial=0)\n",
                        "DEBUG:numba.core.byteflow:dispatch pc=0, inst=NOP(arg=None, lineno=1141)\n",
                        "DEBUG:numba.core.byteflow:stack []\n",
                        "DEBUG:numba.core.byteflow:dispatch pc=2, inst=RESUME(arg=0, lineno=1141)\n",
                        "DEBUG:numba.core.byteflow:stack []\n",
                        "DEBUG:numba.core.byteflow:dispatch pc=4, inst=LOAD_FAST(arg=0, lineno=1144)\n",
                        "DEBUG:numba.core.byteflow:stack []\n",
                        "DEBUG:numba.core.byteflow:dispatch pc=6, inst=LOAD_CONST(arg=1, lineno=1144)\n",
                        "DEBUG:numba.core.byteflow:stack ['$x4.0']\n",
                        "DEBUG:numba.core.byteflow:dispatch pc=8, inst=BINARY_SUBSCR(arg=None, lineno=1144)\n",
                        "DEBUG:numba.core.byteflow:stack ['$x4.0', '$const6.1']\n",
                        "DEBUG:numba.core.byteflow:dispatch pc=18, inst=STORE_FAST(arg=3, lineno=1144)\n",
                        "DEBUG:numba.core.byteflow:stack ['$8binary_subscr.2']\n",
                        "DEBUG:numba.core.byteflow:dispatch pc=20, inst=LOAD_FAST(arg=1, lineno=1145)\n",
                        "DEBUG:numba.core.byteflow:stack []\n",
                        "DEBUG:numba.core.byteflow:dispatch pc=22, inst=UNARY_NEGATIVE(arg=None, lineno=1145)\n",
                        "DEBUG:numba.core.byteflow:stack ['$threshold20.3']\n",
                        "DEBUG:numba.core.byteflow:dispatch pc=24, inst=LOAD_FAST(arg=3, lineno=1145)\n",
                        "DEBUG:numba.core.byteflow:stack ['$22unary_negative.4']\n",
                        "DEBUG:numba.core.byteflow:dispatch pc=26, inst=SWAP(arg=2, lineno=1145)\n",
                        "DEBUG:numba.core.byteflow:stack ['$22unary_negative.4', '$x024.5']\n",
                        "DEBUG:numba.core.byteflow:dispatch pc=28, inst=COPY(arg=2, lineno=1145)\n",
                        "DEBUG:numba.core.byteflow:stack ['$x024.5', '$22unary_negative.4']\n",
                        "DEBUG:numba.core.byteflow:dispatch pc=30, inst=COMPARE_OP(arg=1, lineno=1145)\n",
                        "DEBUG:numba.core.byteflow:stack ['$x024.5', '$22unary_negative.4', '$x024.5']\n",
                        "DEBUG:numba.core.byteflow:dispatch pc=36, inst=POP_JUMP_FORWARD_IF_FALSE(arg=6, lineno=1145)\n",
                        "DEBUG:numba.core.byteflow:stack ['$x024.5', '$30compare_op.6']\n",
                        "DEBUG:numba.core.byteflow:end state. edges=[Edge(pc=38, stack=('$x024.5',), blockstack=(), npush=0), Edge(pc=50, stack=('$x024.5',), blockstack=(), npush=0)]\n",
                        "DEBUG:numba.core.byteflow:pending: deque([State(pc_initial=38 nstack_initial=1), State(pc_initial=50 nstack_initial=1)])\n",
                        "DEBUG:numba.core.byteflow:stack: ['$phi38.0']\n",
                        "DEBUG:numba.core.byteflow:state.pc_initial: State(pc_initial=38 nstack_initial=1)\n",
                        "DEBUG:numba.core.byteflow:dispatch pc=38, inst=LOAD_FAST(arg=1, lineno=1145)\n",
                        "DEBUG:numba.core.byteflow:stack ['$phi38.0']\n",
                        "DEBUG:numba.core.byteflow:dispatch pc=40, inst=COMPARE_OP(arg=1, lineno=1145)\n",
                        "DEBUG:numba.core.byteflow:stack ['$phi38.0', '$threshold38.1']\n",
                        "DEBUG:numba.core.byteflow:dispatch pc=46, inst=POP_JUMP_FORWARD_IF_FALSE(arg=5, lineno=1145)\n",
                        "DEBUG:numba.core.byteflow:stack ['$40compare_op.2']\n",
                        "DEBUG:numba.core.byteflow:end state. edges=[Edge(pc=48, stack=(), blockstack=(), npush=0), Edge(pc=58, stack=(), blockstack=(), npush=0)]\n",
                        "DEBUG:numba.core.byteflow:pending: deque([State(pc_initial=50 nstack_initial=1), State(pc_initial=48 nstack_initial=0), State(pc_initial=58 nstack_initial=0)])\n",
                        "DEBUG:numba.core.byteflow:stack: ['$phi50.0']\n",
                        "DEBUG:numba.core.byteflow:state.pc_initial: State(pc_initial=50 nstack_initial=1)\n",
                        "DEBUG:numba.core.byteflow:dispatch pc=50, inst=POP_TOP(arg=None, lineno=1145)\n",
                        "DEBUG:numba.core.byteflow:stack ['$phi50.0']\n",
                        "DEBUG:numba.core.byteflow:dispatch pc=52, inst=JUMP_FORWARD(arg=2, lineno=1145)\n",
                        "DEBUG:numba.core.byteflow:stack []\n",
                        "DEBUG:numba.core.byteflow:end state. edges=[Edge(pc=58, stack=(), blockstack=(), npush=0)]\n",
                        "DEBUG:numba.core.byteflow:pending: deque([State(pc_initial=48 nstack_initial=0), State(pc_initial=58 nstack_initial=0), State(pc_initial=58 nstack_initial=0)])\n",
                        "DEBUG:numba.core.byteflow:stack: []\n",
                        "DEBUG:numba.core.byteflow:state.pc_initial: State(pc_initial=48 nstack_initial=0)\n",
                        "DEBUG:numba.core.byteflow:dispatch pc=48, inst=JUMP_FORWARD(arg=2, lineno=1145)\n",
                        "DEBUG:numba.core.byteflow:stack []\n",
                        "DEBUG:numba.core.byteflow:end state. edges=[Edge(pc=54, stack=(), blockstack=(), npush=0)]\n",
                        "DEBUG:numba.core.byteflow:pending: deque([State(pc_initial=58 nstack_initial=0), State(pc_initial=58 nstack_initial=0), State(pc_initial=54 nstack_initial=0)])\n",
                        "DEBUG:numba.core.byteflow:stack: []\n",
                        "DEBUG:numba.core.byteflow:state.pc_initial: State(pc_initial=58 nstack_initial=0)\n",
                        "DEBUG:numba.core.byteflow:dispatch pc=58, inst=LOAD_FAST(arg=0, lineno=1148)\n",
                        "DEBUG:numba.core.byteflow:stack []\n",
                        "DEBUG:numba.core.byteflow:dispatch pc=60, inst=LOAD_CONST(arg=2, lineno=1148)\n",
                        "DEBUG:numba.core.byteflow:stack ['$x58.0']\n",
                        "DEBUG:numba.core.byteflow:dispatch pc=62, inst=BINARY_SUBSCR(arg=None, lineno=1148)\n",
                        "DEBUG:numba.core.byteflow:stack ['$x58.0', '$const60.1']\n",
                        "DEBUG:numba.core.byteflow:dispatch pc=72, inst=STORE_FAST(arg=4, lineno=1148)\n",
                        "DEBUG:numba.core.byteflow:stack ['$62binary_subscr.2']\n",
                        "DEBUG:numba.core.byteflow:dispatch pc=74, inst=LOAD_FAST(arg=1, lineno=1149)\n",
                        "DEBUG:numba.core.byteflow:stack []\n",
                        "DEBUG:numba.core.byteflow:dispatch pc=76, inst=UNARY_NEGATIVE(arg=None, lineno=1149)\n",
                        "DEBUG:numba.core.byteflow:stack ['$threshold74.3']\n",
                        "DEBUG:numba.core.byteflow:dispatch pc=78, inst=LOAD_FAST(arg=4, lineno=1149)\n",
                        "DEBUG:numba.core.byteflow:stack ['$76unary_negative.4']\n",
                        "DEBUG:numba.core.byteflow:dispatch pc=80, inst=SWAP(arg=2, lineno=1149)\n",
                        "DEBUG:numba.core.byteflow:stack ['$76unary_negative.4', '$x178.5']\n",
                        "DEBUG:numba.core.byteflow:dispatch pc=82, inst=COPY(arg=2, lineno=1149)\n",
                        "DEBUG:numba.core.byteflow:stack ['$x178.5', '$76unary_negative.4']\n",
                        "DEBUG:numba.core.byteflow:dispatch pc=84, inst=COMPARE_OP(arg=1, lineno=1149)\n",
                        "DEBUG:numba.core.byteflow:stack ['$x178.5', '$76unary_negative.4', '$x178.5']\n",
                        "DEBUG:numba.core.byteflow:dispatch pc=90, inst=POP_JUMP_FORWARD_IF_FALSE(arg=6, lineno=1149)\n",
                        "DEBUG:numba.core.byteflow:stack ['$x178.5', '$84compare_op.6']\n",
                        "DEBUG:numba.core.byteflow:end state. edges=[Edge(pc=92, stack=('$x178.5',), blockstack=(), npush=0), Edge(pc=104, stack=('$x178.5',), blockstack=(), npush=0)]\n",
                        "DEBUG:numba.core.byteflow:pending: deque([State(pc_initial=58 nstack_initial=0), State(pc_initial=54 nstack_initial=0), State(pc_initial=92 nstack_initial=1), State(pc_initial=104 nstack_initial=1)])\n",
                        "DEBUG:numba.core.byteflow:pending: deque([State(pc_initial=54 nstack_initial=0), State(pc_initial=92 nstack_initial=1), State(pc_initial=104 nstack_initial=1)])\n",
                        "DEBUG:numba.core.byteflow:stack: []\n",
                        "DEBUG:numba.core.byteflow:state.pc_initial: State(pc_initial=54 nstack_initial=0)\n",
                        "DEBUG:numba.core.byteflow:dispatch pc=54, inst=LOAD_CONST(arg=1, lineno=1146)\n",
                        "DEBUG:numba.core.byteflow:stack []\n",
                        "DEBUG:numba.core.byteflow:dispatch pc=56, inst=STORE_FAST(arg=3, lineno=1146)\n",
                        "DEBUG:numba.core.byteflow:stack ['$const54.0']\n",
                        "DEBUG:numba.core.byteflow:end state. edges=[Edge(pc=58, stack=(), blockstack=(), npush=0)]\n",
                        "DEBUG:numba.core.byteflow:pending: deque([State(pc_initial=92 nstack_initial=1), State(pc_initial=104 nstack_initial=1), State(pc_initial=58 nstack_initial=0)])\n",
                        "DEBUG:numba.core.byteflow:stack: ['$phi92.0']\n",
                        "DEBUG:numba.core.byteflow:state.pc_initial: State(pc_initial=92 nstack_initial=1)\n",
                        "DEBUG:numba.core.byteflow:dispatch pc=92, inst=LOAD_FAST(arg=1, lineno=1149)\n",
                        "DEBUG:numba.core.byteflow:stack ['$phi92.0']\n",
                        "DEBUG:numba.core.byteflow:dispatch pc=94, inst=COMPARE_OP(arg=1, lineno=1149)\n",
                        "DEBUG:numba.core.byteflow:stack ['$phi92.0', '$threshold92.1']\n",
                        "DEBUG:numba.core.byteflow:dispatch pc=100, inst=POP_JUMP_FORWARD_IF_FALSE(arg=5, lineno=1149)\n",
                        "DEBUG:numba.core.byteflow:stack ['$94compare_op.2']\n",
                        "DEBUG:numba.core.byteflow:end state. edges=[Edge(pc=102, stack=(), blockstack=(), npush=0), Edge(pc=112, stack=(), blockstack=(), npush=0)]\n",
                        "DEBUG:numba.core.byteflow:pending: deque([State(pc_initial=104 nstack_initial=1), State(pc_initial=58 nstack_initial=0), State(pc_initial=102 nstack_initial=0), State(pc_initial=112 nstack_initial=0)])\n",
                        "DEBUG:numba.core.byteflow:stack: ['$phi104.0']\n",
                        "DEBUG:numba.core.byteflow:state.pc_initial: State(pc_initial=104 nstack_initial=1)\n",
                        "DEBUG:numba.core.byteflow:dispatch pc=104, inst=POP_TOP(arg=None, lineno=1149)\n",
                        "DEBUG:numba.core.byteflow:stack ['$phi104.0']\n",
                        "DEBUG:numba.core.byteflow:dispatch pc=106, inst=JUMP_FORWARD(arg=2, lineno=1149)\n",
                        "DEBUG:numba.core.byteflow:stack []\n",
                        "DEBUG:numba.core.byteflow:end state. edges=[Edge(pc=112, stack=(), blockstack=(), npush=0)]\n",
                        "DEBUG:numba.core.byteflow:pending: deque([State(pc_initial=58 nstack_initial=0), State(pc_initial=102 nstack_initial=0), State(pc_initial=112 nstack_initial=0), State(pc_initial=112 nstack_initial=0)])\n",
                        "DEBUG:numba.core.byteflow:pending: deque([State(pc_initial=102 nstack_initial=0), State(pc_initial=112 nstack_initial=0), State(pc_initial=112 nstack_initial=0)])\n",
                        "DEBUG:numba.core.byteflow:stack: []\n",
                        "DEBUG:numba.core.byteflow:state.pc_initial: State(pc_initial=102 nstack_initial=0)\n",
                        "DEBUG:numba.core.byteflow:dispatch pc=102, inst=JUMP_FORWARD(arg=2, lineno=1149)\n",
                        "DEBUG:numba.core.byteflow:stack []\n",
                        "DEBUG:numba.core.byteflow:end state. edges=[Edge(pc=108, stack=(), blockstack=(), npush=0)]\n",
                        "DEBUG:numba.core.byteflow:pending: deque([State(pc_initial=112 nstack_initial=0), State(pc_initial=112 nstack_initial=0), State(pc_initial=108 nstack_initial=0)])\n",
                        "DEBUG:numba.core.byteflow:stack: []\n",
                        "DEBUG:numba.core.byteflow:state.pc_initial: State(pc_initial=112 nstack_initial=0)\n",
                        "DEBUG:numba.core.byteflow:dispatch pc=112, inst=LOAD_FAST(arg=2, lineno=1152)\n",
                        "DEBUG:numba.core.byteflow:stack []\n",
                        "DEBUG:numba.core.byteflow:dispatch pc=114, inst=POP_JUMP_FORWARD_IF_FALSE(arg=42, lineno=1152)\n",
                        "DEBUG:numba.core.byteflow:stack ['$zero_pos112.0']\n",
                        "DEBUG:numba.core.byteflow:end state. edges=[Edge(pc=116, stack=(), blockstack=(), npush=0), Edge(pc=200, stack=(), blockstack=(), npush=0)]\n",
                        "DEBUG:numba.core.byteflow:pending: deque([State(pc_initial=112 nstack_initial=0), State(pc_initial=108 nstack_initial=0), State(pc_initial=116 nstack_initial=0), State(pc_initial=200 nstack_initial=0)])\n",
                        "DEBUG:numba.core.byteflow:pending: deque([State(pc_initial=108 nstack_initial=0), State(pc_initial=116 nstack_initial=0), State(pc_initial=200 nstack_initial=0)])\n",
                        "DEBUG:numba.core.byteflow:stack: []\n",
                        "DEBUG:numba.core.byteflow:state.pc_initial: State(pc_initial=108 nstack_initial=0)\n",
                        "DEBUG:numba.core.byteflow:dispatch pc=108, inst=LOAD_CONST(arg=1, lineno=1150)\n",
                        "DEBUG:numba.core.byteflow:stack []\n",
                        "DEBUG:numba.core.byteflow:dispatch pc=110, inst=STORE_FAST(arg=4, lineno=1150)\n",
                        "DEBUG:numba.core.byteflow:stack ['$const108.0']\n",
                        "DEBUG:numba.core.byteflow:end state. edges=[Edge(pc=112, stack=(), blockstack=(), npush=0)]\n",
                        "DEBUG:numba.core.byteflow:pending: deque([State(pc_initial=116 nstack_initial=0), State(pc_initial=200 nstack_initial=0), State(pc_initial=112 nstack_initial=0)])\n",
                        "DEBUG:numba.core.byteflow:stack: []\n",
                        "DEBUG:numba.core.byteflow:state.pc_initial: State(pc_initial=116 nstack_initial=0)\n",
                        "DEBUG:numba.core.byteflow:dispatch pc=116, inst=LOAD_GLOBAL(arg=1, lineno=1153)\n",
                        "DEBUG:numba.core.byteflow:stack []\n",
                        "DEBUG:numba.core.byteflow:dispatch pc=128, inst=LOAD_ATTR(arg=1, lineno=1153)\n",
                        "DEBUG:numba.core.byteflow:stack ['$null$116.1', '$116load_global.0']\n",
                        "DEBUG:numba.core.byteflow:dispatch pc=138, inst=LOAD_FAST(arg=3, lineno=1153)\n",
                        "DEBUG:numba.core.byteflow:stack ['$null$116.1', '$128load_attr.2']\n",
                        "DEBUG:numba.core.byteflow:dispatch pc=140, inst=PRECALL(arg=1, lineno=1153)\n",
                        "DEBUG:numba.core.byteflow:stack ['$null$116.1', '$128load_attr.2', '$x0138.3']\n",
                        "DEBUG:numba.core.byteflow:dispatch pc=144, inst=CALL(arg=1, lineno=1153)\n",
                        "DEBUG:numba.core.byteflow:stack ['$null$116.1', '$128load_attr.2', '$x0138.3']\n",
                        "DEBUG:numba.core.byteflow:dispatch pc=154, inst=LOAD_GLOBAL(arg=1, lineno=1153)\n",
                        "DEBUG:numba.core.byteflow:stack ['$144call.4']\n",
                        "DEBUG:numba.core.byteflow:dispatch pc=166, inst=LOAD_ATTR(arg=1, lineno=1153)\n",
                        "DEBUG:numba.core.byteflow:stack ['$144call.4', '$null$154.6', '$154load_global.5']\n",
                        "DEBUG:numba.core.byteflow:dispatch pc=176, inst=LOAD_FAST(arg=4, lineno=1153)\n",
                        "DEBUG:numba.core.byteflow:stack ['$144call.4', '$null$154.6', '$166load_attr.7']\n",
                        "DEBUG:numba.core.byteflow:dispatch pc=178, inst=PRECALL(arg=1, lineno=1153)\n",
                        "DEBUG:numba.core.byteflow:stack ['$144call.4', '$null$154.6', '$166load_attr.7', '$x1176.8']\n",
                        "DEBUG:numba.core.byteflow:dispatch pc=182, inst=CALL(arg=1, lineno=1153)\n",
                        "DEBUG:numba.core.byteflow:stack ['$144call.4', '$null$154.6', '$166load_attr.7', '$x1176.8']\n",
                        "DEBUG:numba.core.byteflow:dispatch pc=192, inst=COMPARE_OP(arg=3, lineno=1153)\n",
                        "DEBUG:numba.core.byteflow:stack ['$144call.4', '$182call.9']\n",
                        "DEBUG:numba.core.byteflow:dispatch pc=198, inst=RETURN_VALUE(arg=None, lineno=1153)\n",
                        "DEBUG:numba.core.byteflow:stack ['$192compare_op.10']\n",
                        "DEBUG:numba.core.byteflow:end state. edges=[]\n",
                        "DEBUG:numba.core.byteflow:pending: deque([State(pc_initial=200 nstack_initial=0), State(pc_initial=112 nstack_initial=0)])\n",
                        "DEBUG:numba.core.byteflow:stack: []\n",
                        "DEBUG:numba.core.byteflow:state.pc_initial: State(pc_initial=200 nstack_initial=0)\n",
                        "DEBUG:numba.core.byteflow:dispatch pc=200, inst=LOAD_GLOBAL(arg=1, lineno=1155)\n",
                        "DEBUG:numba.core.byteflow:stack []\n",
                        "DEBUG:numba.core.byteflow:dispatch pc=212, inst=LOAD_ATTR(arg=2, lineno=1155)\n",
                        "DEBUG:numba.core.byteflow:stack ['$null$200.1', '$200load_global.0']\n",
                        "DEBUG:numba.core.byteflow:dispatch pc=222, inst=LOAD_FAST(arg=3, lineno=1155)\n",
                        "DEBUG:numba.core.byteflow:stack ['$null$200.1', '$212load_attr.2']\n",
                        "DEBUG:numba.core.byteflow:dispatch pc=224, inst=PRECALL(arg=1, lineno=1155)\n",
                        "DEBUG:numba.core.byteflow:stack ['$null$200.1', '$212load_attr.2', '$x0222.3']\n",
                        "DEBUG:numba.core.byteflow:dispatch pc=228, inst=CALL(arg=1, lineno=1155)\n",
                        "DEBUG:numba.core.byteflow:stack ['$null$200.1', '$212load_attr.2', '$x0222.3']\n",
                        "DEBUG:numba.core.byteflow:dispatch pc=238, inst=LOAD_GLOBAL(arg=1, lineno=1155)\n",
                        "DEBUG:numba.core.byteflow:stack ['$228call.4']\n",
                        "DEBUG:numba.core.byteflow:dispatch pc=250, inst=LOAD_ATTR(arg=2, lineno=1155)\n",
                        "DEBUG:numba.core.byteflow:stack ['$228call.4', '$null$238.6', '$238load_global.5']\n",
                        "DEBUG:numba.core.byteflow:dispatch pc=260, inst=LOAD_FAST(arg=4, lineno=1155)\n",
                        "DEBUG:numba.core.byteflow:stack ['$228call.4', '$null$238.6', '$250load_attr.7']\n",
                        "DEBUG:numba.core.byteflow:dispatch pc=262, inst=PRECALL(arg=1, lineno=1155)\n",
                        "DEBUG:numba.core.byteflow:stack ['$228call.4', '$null$238.6', '$250load_attr.7', '$x1260.8']\n",
                        "DEBUG:numba.core.byteflow:dispatch pc=266, inst=CALL(arg=1, lineno=1155)\n",
                        "DEBUG:numba.core.byteflow:stack ['$228call.4', '$null$238.6', '$250load_attr.7', '$x1260.8']\n",
                        "DEBUG:numba.core.byteflow:dispatch pc=276, inst=COMPARE_OP(arg=3, lineno=1155)\n",
                        "DEBUG:numba.core.byteflow:stack ['$228call.4', '$266call.9']\n",
                        "DEBUG:numba.core.byteflow:dispatch pc=282, inst=RETURN_VALUE(arg=None, lineno=1155)\n",
                        "DEBUG:numba.core.byteflow:stack ['$276compare_op.10']\n",
                        "DEBUG:numba.core.byteflow:end state. edges=[]\n",
                        "DEBUG:numba.core.byteflow:pending: deque([State(pc_initial=112 nstack_initial=0)])\n",
                        "DEBUG:numba.core.byteflow:-------------------------Prune PHIs-------------------------\n",
                        "DEBUG:numba.core.byteflow:Used_phis: defaultdict(<class 'set'>,\n",
                        "            {State(pc_initial=0 nstack_initial=0): set(),\n",
                        "             State(pc_initial=38 nstack_initial=1): {'$phi38.0'},\n",
                        "             State(pc_initial=48 nstack_initial=0): set(),\n",
                        "             State(pc_initial=50 nstack_initial=1): set(),\n",
                        "             State(pc_initial=54 nstack_initial=0): set(),\n",
                        "             State(pc_initial=58 nstack_initial=0): set(),\n",
                        "             State(pc_initial=92 nstack_initial=1): {'$phi92.0'},\n",
                        "             State(pc_initial=102 nstack_initial=0): set(),\n",
                        "             State(pc_initial=104 nstack_initial=1): set(),\n",
                        "             State(pc_initial=108 nstack_initial=0): set(),\n",
                        "             State(pc_initial=112 nstack_initial=0): set(),\n",
                        "             State(pc_initial=116 nstack_initial=0): set(),\n",
                        "             State(pc_initial=200 nstack_initial=0): set()})\n",
                        "DEBUG:numba.core.byteflow:defmap: {'$phi104.0': State(pc_initial=58 nstack_initial=0),\n",
                        " '$phi38.0': State(pc_initial=0 nstack_initial=0),\n",
                        " '$phi50.0': State(pc_initial=0 nstack_initial=0),\n",
                        " '$phi92.0': State(pc_initial=58 nstack_initial=0)}\n",
                        "DEBUG:numba.core.byteflow:phismap: defaultdict(<class 'set'>,\n",
                        "            {'$phi104.0': {('$x178.5', State(pc_initial=58 nstack_initial=0))},\n",
                        "             '$phi38.0': {('$x024.5', State(pc_initial=0 nstack_initial=0))},\n",
                        "             '$phi50.0': {('$x024.5', State(pc_initial=0 nstack_initial=0))},\n",
                        "             '$phi92.0': {('$x178.5', State(pc_initial=58 nstack_initial=0))}})\n",
                        "DEBUG:numba.core.byteflow:changing phismap: defaultdict(<class 'set'>,\n",
                        "            {'$phi104.0': {('$x178.5', State(pc_initial=58 nstack_initial=0))},\n",
                        "             '$phi38.0': {('$x024.5', State(pc_initial=0 nstack_initial=0))},\n",
                        "             '$phi50.0': {('$x024.5', State(pc_initial=0 nstack_initial=0))},\n",
                        "             '$phi92.0': {('$x178.5', State(pc_initial=58 nstack_initial=0))}})\n",
                        "DEBUG:numba.core.byteflow:keep phismap: {'$phi38.0': {('$x024.5', State(pc_initial=0 nstack_initial=0))},\n",
                        " '$phi92.0': {('$x178.5', State(pc_initial=58 nstack_initial=0))}}\n",
                        "DEBUG:numba.core.byteflow:new_out: defaultdict(<class 'dict'>,\n",
                        "            {State(pc_initial=0 nstack_initial=0): {'$phi38.0': '$x024.5'},\n",
                        "             State(pc_initial=58 nstack_initial=0): {'$phi92.0': '$x178.5'}})\n",
                        "DEBUG:numba.core.byteflow:----------------------DONE Prune PHIs-----------------------\n",
                        "DEBUG:numba.core.byteflow:block_infos State(pc_initial=0 nstack_initial=0):\n",
                        "AdaptBlockInfo(insts=((0, {}), (2, {}), (4, {'res': '$x4.0'}), (6, {'res': '$const6.1'}), (8, {'index': '$const6.1', 'target': '$x4.0', 'res': '$8binary_subscr.2'}), (10, {}), (12, {}), (14, {}), (16, {}), (18, {'value': '$8binary_subscr.2'}), (20, {'res': '$threshold20.3'}), (22, {'value': '$threshold20.3', 'res': '$22unary_negative.4'}), (24, {'res': '$x024.5'}), (30, {'lhs': '$22unary_negative.4', 'rhs': '$x024.5', 'res': '$30compare_op.6'}), (32, {}), (34, {}), (36, {'pred': '$30compare_op.6'})), outgoing_phis={'$phi38.0': '$x024.5'}, blockstack=(), active_try_block=None, outgoing_edgepushed={38: ('$x024.5',), 50: ('$x024.5',)})\n",
                        "DEBUG:numba.core.byteflow:block_infos State(pc_initial=38 nstack_initial=1):\n",
                        "AdaptBlockInfo(insts=((38, {'res': '$threshold38.1'}), (40, {'lhs': '$phi38.0', 'rhs': '$threshold38.1', 'res': '$40compare_op.2'}), (42, {}), (44, {}), (46, {'pred': '$40compare_op.2'})), outgoing_phis={}, blockstack=(), active_try_block=None, outgoing_edgepushed={48: (), 58: ()})\n",
                        "DEBUG:numba.core.byteflow:block_infos State(pc_initial=48 nstack_initial=0):\n",
                        "AdaptBlockInfo(insts=((48, {}),), outgoing_phis={}, blockstack=(), active_try_block=None, outgoing_edgepushed={54: ()})\n",
                        "DEBUG:numba.core.byteflow:block_infos State(pc_initial=50 nstack_initial=1):\n",
                        "AdaptBlockInfo(insts=((52, {}),), outgoing_phis={}, blockstack=(), active_try_block=None, outgoing_edgepushed={58: ()})\n",
                        "DEBUG:numba.core.byteflow:block_infos State(pc_initial=54 nstack_initial=0):\n",
                        "AdaptBlockInfo(insts=((54, {'res': '$const54.0'}), (56, {'value': '$const54.0'})), outgoing_phis={}, blockstack=(), active_try_block=None, outgoing_edgepushed={58: ()})\n",
                        "DEBUG:numba.core.byteflow:block_infos State(pc_initial=58 nstack_initial=0):\n",
                        "AdaptBlockInfo(insts=((58, {'res': '$x58.0'}), (60, {'res': '$const60.1'}), (62, {'index': '$const60.1', 'target': '$x58.0', 'res': '$62binary_subscr.2'}), (64, {}), (66, {}), (68, {}), (70, {}), (72, {'value': '$62binary_subscr.2'}), (74, {'res': '$threshold74.3'}), (76, {'value': '$threshold74.3', 'res': '$76unary_negative.4'}), (78, {'res': '$x178.5'}), (84, {'lhs': '$76unary_negative.4', 'rhs': '$x178.5', 'res': '$84compare_op.6'}), (86, {}), (88, {}), (90, {'pred': '$84compare_op.6'})), outgoing_phis={'$phi92.0': '$x178.5'}, blockstack=(), active_try_block=None, outgoing_edgepushed={92: ('$x178.5',), 104: ('$x178.5',)})\n",
                        "DEBUG:numba.core.byteflow:block_infos State(pc_initial=92 nstack_initial=1):\n",
                        "AdaptBlockInfo(insts=((92, {'res': '$threshold92.1'}), (94, {'lhs': '$phi92.0', 'rhs': '$threshold92.1', 'res': '$94compare_op.2'}), (96, {}), (98, {}), (100, {'pred': '$94compare_op.2'})), outgoing_phis={}, blockstack=(), active_try_block=None, outgoing_edgepushed={102: (), 112: ()})\n",
                        "DEBUG:numba.core.byteflow:block_infos State(pc_initial=102 nstack_initial=0):\n",
                        "AdaptBlockInfo(insts=((102, {}),), outgoing_phis={}, blockstack=(), active_try_block=None, outgoing_edgepushed={108: ()})\n",
                        "DEBUG:numba.core.byteflow:block_infos State(pc_initial=104 nstack_initial=1):\n",
                        "AdaptBlockInfo(insts=((106, {}),), outgoing_phis={}, blockstack=(), active_try_block=None, outgoing_edgepushed={112: ()})\n",
                        "DEBUG:numba.core.byteflow:block_infos State(pc_initial=108 nstack_initial=0):\n",
                        "AdaptBlockInfo(insts=((108, {'res': '$const108.0'}), (110, {'value': '$const108.0'})), outgoing_phis={}, blockstack=(), active_try_block=None, outgoing_edgepushed={112: ()})\n",
                        "DEBUG:numba.core.byteflow:block_infos State(pc_initial=112 nstack_initial=0):\n",
                        "AdaptBlockInfo(insts=((112, {'res': '$zero_pos112.0'}), (114, {'pred': '$zero_pos112.0'})), outgoing_phis={}, blockstack=(), active_try_block=None, outgoing_edgepushed={116: (), 200: ()})\n",
                        "DEBUG:numba.core.byteflow:block_infos State(pc_initial=116 nstack_initial=0):\n",
                        "AdaptBlockInfo(insts=((116, {'idx': 0, 'res': '$116load_global.0'}), (118, {}), (120, {}), (122, {}), (124, {}), (126, {}), (128, {'item': '$116load_global.0', 'res': '$128load_attr.2'}), (130, {}), (132, {}), (134, {}), (136, {}), (138, {'res': '$x0138.3'}), (140, {}), (142, {}), (144, {'func': '$128load_attr.2', 'args': ['$x0138.3'], 'kw_names': None, 'res': '$144call.4'}), (146, {}), (148, {}), (150, {}), (152, {}), (154, {'idx': 0, 'res': '$154load_global.5'}), (156, {}), (158, {}), (160, {}), (162, {}), (164, {}), (166, {'item': '$154load_global.5', 'res': '$166load_attr.7'}), (168, {}), (170, {}), (172, {}), (174, {}), (176, {'res': '$x1176.8'}), (178, {}), (180, {}), (182, {'func': '$166load_attr.7', 'args': ['$x1176.8'], 'kw_names': None, 'res': '$182call.9'}), (184, {}), (186, {}), (188, {}), (190, {}), (192, {'lhs': '$144call.4', 'rhs': '$182call.9', 'res': '$192compare_op.10'}), (194, {}), (196, {}), (198, {'retval': '$192compare_op.10', 'castval': '$198return_value.11'})), outgoing_phis={}, blockstack=(), active_try_block=None, outgoing_edgepushed={})\n",
                        "DEBUG:numba.core.byteflow:block_infos State(pc_initial=200 nstack_initial=0):\n",
                        "AdaptBlockInfo(insts=((200, {'idx': 0, 'res': '$200load_global.0'}), (202, {}), (204, {}), (206, {}), (208, {}), (210, {}), (212, {'item': '$200load_global.0', 'res': '$212load_attr.2'}), (214, {}), (216, {}), (218, {}), (220, {}), (222, {'res': '$x0222.3'}), (224, {}), (226, {}), (228, {'func': '$212load_attr.2', 'args': ['$x0222.3'], 'kw_names': None, 'res': '$228call.4'}), (230, {}), (232, {}), (234, {}), (236, {}), (238, {'idx': 0, 'res': '$238load_global.5'}), (240, {}), (242, {}), (244, {}), (246, {}), (248, {}), (250, {'item': '$238load_global.5', 'res': '$250load_attr.7'}), (252, {}), (254, {}), (256, {}), (258, {}), (260, {'res': '$x1260.8'}), (262, {}), (264, {}), (266, {'func': '$250load_attr.7', 'args': ['$x1260.8'], 'kw_names': None, 'res': '$266call.9'}), (268, {}), (270, {}), (272, {}), (274, {}), (276, {'lhs': '$228call.4', 'rhs': '$266call.9', 'res': '$276compare_op.10'}), (278, {}), (280, {}), (282, {'retval': '$276compare_op.10', 'castval': '$282return_value.11'})), outgoing_phis={}, blockstack=(), active_try_block=None, outgoing_edgepushed={})\n",
                        "DEBUG:numba.core.interpreter:label 0:\n",
                        "    x = arg(0, name=x)                       ['x']\n",
                        "    threshold = arg(1, name=threshold)       ['threshold']\n",
                        "    zero_pos = arg(2, name=zero_pos)         ['zero_pos']\n",
                        "    $const6.1 = const(int, 0)                ['$const6.1']\n",
                        "    x0 = getitem(value=x, index=$const6.1, fn=<built-in function getitem>) ['$const6.1', 'x', 'x0']\n",
                        "    $22unary_negative.4 = unary(fn=<built-in function neg>, value=threshold) ['$22unary_negative.4', 'threshold']\n",
                        "    $30compare_op.6 = $22unary_negative.4 <= x0 ['$22unary_negative.4', '$30compare_op.6', 'x0']\n",
                        "    bool36 = global(bool: <class 'bool'>)    ['bool36']\n",
                        "    $36pred = call bool36($30compare_op.6, func=bool36, args=(Var($30compare_op.6, audio.py:1145),), kws=(), vararg=None, varkwarg=None, target=None) ['$30compare_op.6', '$36pred', 'bool36']\n",
                        "    $phi38.0 = x0                            ['$phi38.0', 'x0']\n",
                        "    branch $36pred, 38, 50                   ['$36pred']\n",
                        "label 38:\n",
                        "    $40compare_op.2 = $phi38.0 <= threshold  ['$40compare_op.2', '$phi38.0', 'threshold']\n",
                        "    bool46 = global(bool: <class 'bool'>)    ['bool46']\n",
                        "    $46pred = call bool46($40compare_op.2, func=bool46, args=(Var($40compare_op.2, audio.py:1145),), kws=(), vararg=None, varkwarg=None, target=None) ['$40compare_op.2', '$46pred', 'bool46']\n",
                        "    branch $46pred, 48, 58                   ['$46pred']\n",
                        "label 48:\n",
                        "    jump 54                                  []\n",
                        "label 50:\n",
                        "    jump 58                                  []\n",
                        "label 54:\n",
                        "    x0 = const(int, 0)                       ['x0']\n",
                        "    jump 58                                  []\n",
                        "label 58:\n",
                        "    $const60.1 = const(int, -1)              ['$const60.1']\n",
                        "    x1 = getitem(value=x, index=$const60.1, fn=<built-in function getitem>) ['$const60.1', 'x', 'x1']\n",
                        "    $76unary_negative.4 = unary(fn=<built-in function neg>, value=threshold) ['$76unary_negative.4', 'threshold']\n",
                        "    $84compare_op.6 = $76unary_negative.4 <= x1 ['$76unary_negative.4', '$84compare_op.6', 'x1']\n",
                        "    bool90 = global(bool: <class 'bool'>)    ['bool90']\n",
                        "    $90pred = call bool90($84compare_op.6, func=bool90, args=(Var($84compare_op.6, audio.py:1149),), kws=(), vararg=None, varkwarg=None, target=None) ['$84compare_op.6', '$90pred', 'bool90']\n",
                        "    $phi92.0 = x1                            ['$phi92.0', 'x1']\n",
                        "    branch $90pred, 92, 104                  ['$90pred']\n",
                        "label 92:\n",
                        "    $94compare_op.2 = $phi92.0 <= threshold  ['$94compare_op.2', '$phi92.0', 'threshold']\n",
                        "    bool100 = global(bool: <class 'bool'>)   ['bool100']\n",
                        "    $100pred = call bool100($94compare_op.2, func=bool100, args=(Var($94compare_op.2, audio.py:1149),), kws=(), vararg=None, varkwarg=None, target=None) ['$100pred', '$94compare_op.2', 'bool100']\n",
                        "    branch $100pred, 102, 112                ['$100pred']\n",
                        "label 102:\n",
                        "    jump 108                                 []\n",
                        "label 104:\n",
                        "    jump 112                                 []\n",
                        "label 108:\n",
                        "    x1 = const(int, 0)                       ['x1']\n",
                        "    jump 112                                 []\n",
                        "label 112:\n",
                        "    bool114 = global(bool: <class 'bool'>)   ['bool114']\n",
                        "    $114pred = call bool114(zero_pos, func=bool114, args=(Var(zero_pos, audio.py:1141),), kws=(), vararg=None, varkwarg=None, target=None) ['$114pred', 'bool114', 'zero_pos']\n",
                        "    branch $114pred, 116, 200                ['$114pred']\n",
                        "label 116:\n",
                        "    $116load_global.0 = global(np: <module 'numpy' from 'c:\\\\Users\\\\conta\\\\anaconda3\\\\envs\\\\Marblenet\\\\Lib\\\\site-packages\\\\numpy\\\\__init__.py'>) ['$116load_global.0']\n",
                        "    $128load_attr.2 = getattr(value=$116load_global.0, attr=signbit) ['$116load_global.0', '$128load_attr.2']\n",
                        "    $144call.4 = call $128load_attr.2(x0, func=$128load_attr.2, args=[Var(x0, audio.py:1144)], kws=(), vararg=None, varkwarg=None, target=None) ['$128load_attr.2', '$144call.4', 'x0']\n",
                        "    $154load_global.5 = global(np: <module 'numpy' from 'c:\\\\Users\\\\conta\\\\anaconda3\\\\envs\\\\Marblenet\\\\Lib\\\\site-packages\\\\numpy\\\\__init__.py'>) ['$154load_global.5']\n",
                        "    $166load_attr.7 = getattr(value=$154load_global.5, attr=signbit) ['$154load_global.5', '$166load_attr.7']\n",
                        "    $182call.9 = call $166load_attr.7(x1, func=$166load_attr.7, args=[Var(x1, audio.py:1148)], kws=(), vararg=None, varkwarg=None, target=None) ['$166load_attr.7', '$182call.9', 'x1']\n",
                        "    $192compare_op.10 = $144call.4 != $182call.9 ['$144call.4', '$182call.9', '$192compare_op.10']\n",
                        "    $198return_value.11 = cast(value=$192compare_op.10) ['$192compare_op.10', '$198return_value.11']\n",
                        "    return $198return_value.11               ['$198return_value.11']\n",
                        "label 200:\n",
                        "    $200load_global.0 = global(np: <module 'numpy' from 'c:\\\\Users\\\\conta\\\\anaconda3\\\\envs\\\\Marblenet\\\\Lib\\\\site-packages\\\\numpy\\\\__init__.py'>) ['$200load_global.0']\n",
                        "    $212load_attr.2 = getattr(value=$200load_global.0, attr=sign) ['$200load_global.0', '$212load_attr.2']\n",
                        "    $228call.4 = call $212load_attr.2(x0, func=$212load_attr.2, args=[Var(x0, audio.py:1144)], kws=(), vararg=None, varkwarg=None, target=None) ['$212load_attr.2', '$228call.4', 'x0']\n",
                        "    $238load_global.5 = global(np: <module 'numpy' from 'c:\\\\Users\\\\conta\\\\anaconda3\\\\envs\\\\Marblenet\\\\Lib\\\\site-packages\\\\numpy\\\\__init__.py'>) ['$238load_global.5']\n",
                        "    $250load_attr.7 = getattr(value=$238load_global.5, attr=sign) ['$238load_global.5', '$250load_attr.7']\n",
                        "    $266call.9 = call $250load_attr.7(x1, func=$250load_attr.7, args=[Var(x1, audio.py:1148)], kws=(), vararg=None, varkwarg=None, target=None) ['$250load_attr.7', '$266call.9', 'x1']\n",
                        "    $276compare_op.10 = $228call.4 != $266call.9 ['$228call.4', '$266call.9', '$276compare_op.10']\n",
                        "    $282return_value.11 = cast(value=$276compare_op.10) ['$276compare_op.10', '$282return_value.11']\n",
                        "    return $282return_value.11               ['$282return_value.11']\n",
                        "\n",
                        "DEBUG:numba.core.byteflow:bytecode dump:\n",
                        ">          0\tNOP(arg=None, lineno=1039)\n",
                        "           2\tRESUME(arg=0, lineno=1039)\n",
                        "           4\tLOAD_FAST(arg=0, lineno=1042)\n",
                        "           6\tLOAD_CONST(arg=1, lineno=1042)\n",
                        "           8\tBINARY_SUBSCR(arg=None, lineno=1042)\n",
                        "          18\tLOAD_FAST(arg=0, lineno=1042)\n",
                        "          20\tLOAD_CONST(arg=2, lineno=1042)\n",
                        "          22\tBINARY_SUBSCR(arg=None, lineno=1042)\n",
                        "          32\tCOMPARE_OP(arg=4, lineno=1042)\n",
                        "          38\tLOAD_FAST(arg=0, lineno=1042)\n",
                        "          40\tLOAD_CONST(arg=1, lineno=1042)\n",
                        "          42\tBINARY_SUBSCR(arg=None, lineno=1042)\n",
                        "          52\tLOAD_FAST(arg=0, lineno=1042)\n",
                        "          54\tLOAD_CONST(arg=3, lineno=1042)\n",
                        "          56\tBINARY_SUBSCR(arg=None, lineno=1042)\n",
                        "          66\tCOMPARE_OP(arg=5, lineno=1042)\n",
                        "          72\tBINARY_OP(arg=1, lineno=1042)\n",
                        "          76\tRETURN_VALUE(arg=None, lineno=1042)\n",
                        "DEBUG:numba.core.byteflow:pending: deque([State(pc_initial=0 nstack_initial=0)])\n",
                        "DEBUG:numba.core.byteflow:stack: []\n",
                        "DEBUG:numba.core.byteflow:state.pc_initial: State(pc_initial=0 nstack_initial=0)\n",
                        "DEBUG:numba.core.byteflow:dispatch pc=0, inst=NOP(arg=None, lineno=1039)\n",
                        "DEBUG:numba.core.byteflow:stack []\n",
                        "DEBUG:numba.core.byteflow:dispatch pc=2, inst=RESUME(arg=0, lineno=1039)\n",
                        "DEBUG:numba.core.byteflow:stack []\n",
                        "DEBUG:numba.core.byteflow:dispatch pc=4, inst=LOAD_FAST(arg=0, lineno=1042)\n",
                        "DEBUG:numba.core.byteflow:stack []\n",
                        "DEBUG:numba.core.byteflow:dispatch pc=6, inst=LOAD_CONST(arg=1, lineno=1042)\n",
                        "DEBUG:numba.core.byteflow:stack ['$x4.0']\n",
                        "DEBUG:numba.core.byteflow:dispatch pc=8, inst=BINARY_SUBSCR(arg=None, lineno=1042)\n",
                        "DEBUG:numba.core.byteflow:stack ['$x4.0', '$const6.1']\n",
                        "DEBUG:numba.core.byteflow:dispatch pc=18, inst=LOAD_FAST(arg=0, lineno=1042)\n",
                        "DEBUG:numba.core.byteflow:stack ['$8binary_subscr.2']\n",
                        "DEBUG:numba.core.byteflow:dispatch pc=20, inst=LOAD_CONST(arg=2, lineno=1042)\n",
                        "DEBUG:numba.core.byteflow:stack ['$8binary_subscr.2', '$x18.3']\n",
                        "DEBUG:numba.core.byteflow:dispatch pc=22, inst=BINARY_SUBSCR(arg=None, lineno=1042)\n",
                        "DEBUG:numba.core.byteflow:stack ['$8binary_subscr.2', '$x18.3', '$const20.4']\n",
                        "DEBUG:numba.core.byteflow:dispatch pc=32, inst=COMPARE_OP(arg=4, lineno=1042)\n",
                        "DEBUG:numba.core.byteflow:stack ['$8binary_subscr.2', '$22binary_subscr.5']\n",
                        "DEBUG:numba.core.byteflow:dispatch pc=38, inst=LOAD_FAST(arg=0, lineno=1042)\n",
                        "DEBUG:numba.core.byteflow:stack ['$32compare_op.6']\n",
                        "DEBUG:numba.core.byteflow:dispatch pc=40, inst=LOAD_CONST(arg=1, lineno=1042)\n",
                        "DEBUG:numba.core.byteflow:stack ['$32compare_op.6', '$x38.7']\n",
                        "DEBUG:numba.core.byteflow:dispatch pc=42, inst=BINARY_SUBSCR(arg=None, lineno=1042)\n",
                        "DEBUG:numba.core.byteflow:stack ['$32compare_op.6', '$x38.7', '$const40.8']\n",
                        "DEBUG:numba.core.byteflow:dispatch pc=52, inst=LOAD_FAST(arg=0, lineno=1042)\n",
                        "DEBUG:numba.core.byteflow:stack ['$32compare_op.6', '$42binary_subscr.9']\n",
                        "DEBUG:numba.core.byteflow:dispatch pc=54, inst=LOAD_CONST(arg=3, lineno=1042)\n",
                        "DEBUG:numba.core.byteflow:stack ['$32compare_op.6', '$42binary_subscr.9', '$x52.10']\n",
                        "DEBUG:numba.core.byteflow:dispatch pc=56, inst=BINARY_SUBSCR(arg=None, lineno=1042)\n",
                        "DEBUG:numba.core.byteflow:stack ['$32compare_op.6', '$42binary_subscr.9', '$x52.10', '$const54.11']\n",
                        "DEBUG:numba.core.byteflow:dispatch pc=66, inst=COMPARE_OP(arg=5, lineno=1042)\n",
                        "DEBUG:numba.core.byteflow:stack ['$32compare_op.6', '$42binary_subscr.9', '$56binary_subscr.12']\n",
                        "DEBUG:numba.core.byteflow:dispatch pc=72, inst=BINARY_OP(arg=1, lineno=1042)\n",
                        "DEBUG:numba.core.byteflow:stack ['$32compare_op.6', '$66compare_op.13']\n",
                        "DEBUG:numba.core.byteflow:dispatch pc=76, inst=RETURN_VALUE(arg=None, lineno=1042)\n",
                        "DEBUG:numba.core.byteflow:stack ['$binop_and_72.14']\n",
                        "DEBUG:numba.core.byteflow:end state. edges=[]\n",
                        "DEBUG:numba.core.byteflow:-------------------------Prune PHIs-------------------------\n",
                        "DEBUG:numba.core.byteflow:Used_phis: defaultdict(<class 'set'>, {State(pc_initial=0 nstack_initial=0): set()})\n",
                        "DEBUG:numba.core.byteflow:defmap: {}\n",
                        "DEBUG:numba.core.byteflow:phismap: defaultdict(<class 'set'>, {})\n",
                        "DEBUG:numba.core.byteflow:changing phismap: defaultdict(<class 'set'>, {})\n",
                        "DEBUG:numba.core.byteflow:keep phismap: {}\n",
                        "DEBUG:numba.core.byteflow:new_out: defaultdict(<class 'dict'>, {})\n",
                        "DEBUG:numba.core.byteflow:----------------------DONE Prune PHIs-----------------------\n",
                        "DEBUG:numba.core.byteflow:block_infos State(pc_initial=0 nstack_initial=0):\n",
                        "AdaptBlockInfo(insts=((0, {}), (2, {}), (4, {'res': '$x4.0'}), (6, {'res': '$const6.1'}), (8, {'index': '$const6.1', 'target': '$x4.0', 'res': '$8binary_subscr.2'}), (10, {}), (12, {}), (14, {}), (16, {}), (18, {'res': '$x18.3'}), (20, {'res': '$const20.4'}), (22, {'index': '$const20.4', 'target': '$x18.3', 'res': '$22binary_subscr.5'}), (24, {}), (26, {}), (28, {}), (30, {}), (32, {'lhs': '$8binary_subscr.2', 'rhs': '$22binary_subscr.5', 'res': '$32compare_op.6'}), (34, {}), (36, {}), (38, {'res': '$x38.7'}), (40, {'res': '$const40.8'}), (42, {'index': '$const40.8', 'target': '$x38.7', 'res': '$42binary_subscr.9'}), (44, {}), (46, {}), (48, {}), (50, {}), (52, {'res': '$x52.10'}), (54, {'res': '$const54.11'}), (56, {'index': '$const54.11', 'target': '$x52.10', 'res': '$56binary_subscr.12'}), (58, {}), (60, {}), (62, {}), (64, {}), (66, {'lhs': '$42binary_subscr.9', 'rhs': '$56binary_subscr.12', 'res': '$66compare_op.13'}), (68, {}), (70, {}), (72, {'op': '&', 'lhs': '$32compare_op.6', 'rhs': '$66compare_op.13', 'res': '$binop_and_72.14'}), (74, {}), (76, {'retval': '$binop_and_72.14', 'castval': '$76return_value.15'})), outgoing_phis={}, blockstack=(), active_try_block=None, outgoing_edgepushed={})\n",
                        "DEBUG:numba.core.interpreter:label 0:\n",
                        "    x = arg(0, name=x)                       ['x']\n",
                        "    $const6.1 = const(int, 0)                ['$const6.1']\n",
                        "    $8binary_subscr.2 = getitem(value=x, index=$const6.1, fn=<built-in function getitem>) ['$8binary_subscr.2', '$const6.1', 'x']\n",
                        "    $const20.4 = const(int, -1)              ['$const20.4']\n",
                        "    $22binary_subscr.5 = getitem(value=x, index=$const20.4, fn=<built-in function getitem>) ['$22binary_subscr.5', '$const20.4', 'x']\n",
                        "    $32compare_op.6 = $8binary_subscr.2 > $22binary_subscr.5 ['$22binary_subscr.5', '$32compare_op.6', '$8binary_subscr.2']\n",
                        "    $const40.8 = const(int, 0)               ['$const40.8']\n",
                        "    $42binary_subscr.9 = getitem(value=x, index=$const40.8, fn=<built-in function getitem>) ['$42binary_subscr.9', '$const40.8', 'x']\n",
                        "    $const54.11 = const(int, 1)              ['$const54.11']\n",
                        "    $56binary_subscr.12 = getitem(value=x, index=$const54.11, fn=<built-in function getitem>) ['$56binary_subscr.12', '$const54.11', 'x']\n",
                        "    $66compare_op.13 = $42binary_subscr.9 >= $56binary_subscr.12 ['$42binary_subscr.9', '$56binary_subscr.12', '$66compare_op.13']\n",
                        "    $binop_and_72.14 = $32compare_op.6 & $66compare_op.13 ['$32compare_op.6', '$66compare_op.13', '$binop_and_72.14']\n",
                        "    $76return_value.15 = cast(value=$binop_and_72.14) ['$76return_value.15', '$binop_and_72.14']\n",
                        "    return $76return_value.15                ['$76return_value.15']\n",
                        "\n",
                        "DEBUG:numba.core.byteflow:bytecode dump:\n",
                        ">          0\tNOP(arg=None, lineno=1045)\n",
                        "           2\tRESUME(arg=0, lineno=1045)\n",
                        "           4\tLOAD_FAST(arg=0, lineno=1048)\n",
                        "           6\tLOAD_CONST(arg=1, lineno=1048)\n",
                        "           8\tBINARY_SUBSCR(arg=None, lineno=1048)\n",
                        "          18\tLOAD_FAST(arg=0, lineno=1048)\n",
                        "          20\tLOAD_CONST(arg=2, lineno=1048)\n",
                        "          22\tBINARY_SUBSCR(arg=None, lineno=1048)\n",
                        "          32\tCOMPARE_OP(arg=0, lineno=1048)\n",
                        "          38\tLOAD_FAST(arg=0, lineno=1048)\n",
                        "          40\tLOAD_CONST(arg=1, lineno=1048)\n",
                        "          42\tBINARY_SUBSCR(arg=None, lineno=1048)\n",
                        "          52\tLOAD_FAST(arg=0, lineno=1048)\n",
                        "          54\tLOAD_CONST(arg=3, lineno=1048)\n",
                        "          56\tBINARY_SUBSCR(arg=None, lineno=1048)\n",
                        "          66\tCOMPARE_OP(arg=1, lineno=1048)\n",
                        "          72\tBINARY_OP(arg=1, lineno=1048)\n",
                        "          76\tRETURN_VALUE(arg=None, lineno=1048)\n",
                        "DEBUG:numba.core.byteflow:pending: deque([State(pc_initial=0 nstack_initial=0)])\n",
                        "DEBUG:numba.core.byteflow:stack: []\n",
                        "DEBUG:numba.core.byteflow:state.pc_initial: State(pc_initial=0 nstack_initial=0)\n",
                        "DEBUG:numba.core.byteflow:dispatch pc=0, inst=NOP(arg=None, lineno=1045)\n",
                        "DEBUG:numba.core.byteflow:stack []\n",
                        "DEBUG:numba.core.byteflow:dispatch pc=2, inst=RESUME(arg=0, lineno=1045)\n",
                        "DEBUG:numba.core.byteflow:stack []\n",
                        "DEBUG:numba.core.byteflow:dispatch pc=4, inst=LOAD_FAST(arg=0, lineno=1048)\n",
                        "DEBUG:numba.core.byteflow:stack []\n",
                        "DEBUG:numba.core.byteflow:dispatch pc=6, inst=LOAD_CONST(arg=1, lineno=1048)\n",
                        "DEBUG:numba.core.byteflow:stack ['$x4.0']\n",
                        "DEBUG:numba.core.byteflow:dispatch pc=8, inst=BINARY_SUBSCR(arg=None, lineno=1048)\n",
                        "DEBUG:numba.core.byteflow:stack ['$x4.0', '$const6.1']\n",
                        "DEBUG:numba.core.byteflow:dispatch pc=18, inst=LOAD_FAST(arg=0, lineno=1048)\n",
                        "DEBUG:numba.core.byteflow:stack ['$8binary_subscr.2']\n",
                        "DEBUG:numba.core.byteflow:dispatch pc=20, inst=LOAD_CONST(arg=2, lineno=1048)\n",
                        "DEBUG:numba.core.byteflow:stack ['$8binary_subscr.2', '$x18.3']\n",
                        "DEBUG:numba.core.byteflow:dispatch pc=22, inst=BINARY_SUBSCR(arg=None, lineno=1048)\n",
                        "DEBUG:numba.core.byteflow:stack ['$8binary_subscr.2', '$x18.3', '$const20.4']\n",
                        "DEBUG:numba.core.byteflow:dispatch pc=32, inst=COMPARE_OP(arg=0, lineno=1048)\n",
                        "DEBUG:numba.core.byteflow:stack ['$8binary_subscr.2', '$22binary_subscr.5']\n",
                        "DEBUG:numba.core.byteflow:dispatch pc=38, inst=LOAD_FAST(arg=0, lineno=1048)\n",
                        "DEBUG:numba.core.byteflow:stack ['$32compare_op.6']\n",
                        "DEBUG:numba.core.byteflow:dispatch pc=40, inst=LOAD_CONST(arg=1, lineno=1048)\n",
                        "DEBUG:numba.core.byteflow:stack ['$32compare_op.6', '$x38.7']\n",
                        "DEBUG:numba.core.byteflow:dispatch pc=42, inst=BINARY_SUBSCR(arg=None, lineno=1048)\n",
                        "DEBUG:numba.core.byteflow:stack ['$32compare_op.6', '$x38.7', '$const40.8']\n",
                        "DEBUG:numba.core.byteflow:dispatch pc=52, inst=LOAD_FAST(arg=0, lineno=1048)\n",
                        "DEBUG:numba.core.byteflow:stack ['$32compare_op.6', '$42binary_subscr.9']\n",
                        "DEBUG:numba.core.byteflow:dispatch pc=54, inst=LOAD_CONST(arg=3, lineno=1048)\n",
                        "DEBUG:numba.core.byteflow:stack ['$32compare_op.6', '$42binary_subscr.9', '$x52.10']\n",
                        "DEBUG:numba.core.byteflow:dispatch pc=56, inst=BINARY_SUBSCR(arg=None, lineno=1048)\n",
                        "DEBUG:numba.core.byteflow:stack ['$32compare_op.6', '$42binary_subscr.9', '$x52.10', '$const54.11']\n",
                        "DEBUG:numba.core.byteflow:dispatch pc=66, inst=COMPARE_OP(arg=1, lineno=1048)\n",
                        "DEBUG:numba.core.byteflow:stack ['$32compare_op.6', '$42binary_subscr.9', '$56binary_subscr.12']\n",
                        "DEBUG:numba.core.byteflow:dispatch pc=72, inst=BINARY_OP(arg=1, lineno=1048)\n",
                        "DEBUG:numba.core.byteflow:stack ['$32compare_op.6', '$66compare_op.13']\n",
                        "DEBUG:numba.core.byteflow:dispatch pc=76, inst=RETURN_VALUE(arg=None, lineno=1048)\n",
                        "DEBUG:numba.core.byteflow:stack ['$binop_and_72.14']\n",
                        "DEBUG:numba.core.byteflow:end state. edges=[]\n",
                        "DEBUG:numba.core.byteflow:-------------------------Prune PHIs-------------------------\n",
                        "DEBUG:numba.core.byteflow:Used_phis: defaultdict(<class 'set'>, {State(pc_initial=0 nstack_initial=0): set()})\n",
                        "DEBUG:numba.core.byteflow:defmap: {}\n",
                        "DEBUG:numba.core.byteflow:phismap: defaultdict(<class 'set'>, {})\n",
                        "DEBUG:numba.core.byteflow:changing phismap: defaultdict(<class 'set'>, {})\n",
                        "DEBUG:numba.core.byteflow:keep phismap: {}\n",
                        "DEBUG:numba.core.byteflow:new_out: defaultdict(<class 'dict'>, {})\n",
                        "DEBUG:numba.core.byteflow:----------------------DONE Prune PHIs-----------------------\n",
                        "DEBUG:numba.core.byteflow:block_infos State(pc_initial=0 nstack_initial=0):\n",
                        "AdaptBlockInfo(insts=((0, {}), (2, {}), (4, {'res': '$x4.0'}), (6, {'res': '$const6.1'}), (8, {'index': '$const6.1', 'target': '$x4.0', 'res': '$8binary_subscr.2'}), (10, {}), (12, {}), (14, {}), (16, {}), (18, {'res': '$x18.3'}), (20, {'res': '$const20.4'}), (22, {'index': '$const20.4', 'target': '$x18.3', 'res': '$22binary_subscr.5'}), (24, {}), (26, {}), (28, {}), (30, {}), (32, {'lhs': '$8binary_subscr.2', 'rhs': '$22binary_subscr.5', 'res': '$32compare_op.6'}), (34, {}), (36, {}), (38, {'res': '$x38.7'}), (40, {'res': '$const40.8'}), (42, {'index': '$const40.8', 'target': '$x38.7', 'res': '$42binary_subscr.9'}), (44, {}), (46, {}), (48, {}), (50, {}), (52, {'res': '$x52.10'}), (54, {'res': '$const54.11'}), (56, {'index': '$const54.11', 'target': '$x52.10', 'res': '$56binary_subscr.12'}), (58, {}), (60, {}), (62, {}), (64, {}), (66, {'lhs': '$42binary_subscr.9', 'rhs': '$56binary_subscr.12', 'res': '$66compare_op.13'}), (68, {}), (70, {}), (72, {'op': '&', 'lhs': '$32compare_op.6', 'rhs': '$66compare_op.13', 'res': '$binop_and_72.14'}), (74, {}), (76, {'retval': '$binop_and_72.14', 'castval': '$76return_value.15'})), outgoing_phis={}, blockstack=(), active_try_block=None, outgoing_edgepushed={})\n",
                        "DEBUG:numba.core.interpreter:label 0:\n",
                        "    x = arg(0, name=x)                       ['x']\n",
                        "    $const6.1 = const(int, 0)                ['$const6.1']\n",
                        "    $8binary_subscr.2 = getitem(value=x, index=$const6.1, fn=<built-in function getitem>) ['$8binary_subscr.2', '$const6.1', 'x']\n",
                        "    $const20.4 = const(int, -1)              ['$const20.4']\n",
                        "    $22binary_subscr.5 = getitem(value=x, index=$const20.4, fn=<built-in function getitem>) ['$22binary_subscr.5', '$const20.4', 'x']\n",
                        "    $32compare_op.6 = $8binary_subscr.2 < $22binary_subscr.5 ['$22binary_subscr.5', '$32compare_op.6', '$8binary_subscr.2']\n",
                        "    $const40.8 = const(int, 0)               ['$const40.8']\n",
                        "    $42binary_subscr.9 = getitem(value=x, index=$const40.8, fn=<built-in function getitem>) ['$42binary_subscr.9', '$const40.8', 'x']\n",
                        "    $const54.11 = const(int, 1)              ['$const54.11']\n",
                        "    $56binary_subscr.12 = getitem(value=x, index=$const54.11, fn=<built-in function getitem>) ['$56binary_subscr.12', '$const54.11', 'x']\n",
                        "    $66compare_op.13 = $42binary_subscr.9 <= $56binary_subscr.12 ['$42binary_subscr.9', '$56binary_subscr.12', '$66compare_op.13']\n",
                        "    $binop_and_72.14 = $32compare_op.6 & $66compare_op.13 ['$32compare_op.6', '$66compare_op.13', '$binop_and_72.14']\n",
                        "    $76return_value.15 = cast(value=$binop_and_72.14) ['$76return_value.15', '$binop_and_72.14']\n",
                        "    return $76return_value.15                ['$76return_value.15']\n",
                        "\n",
                        "INFO:root:Val: Skip 0 samples. Get 85 segments! => old_data\\manifest_2\\speech_validation_manifest.json \n",
                        "INFO:root:Test: Skip 0 samples. Get 5100 segments! => old_data\\manifest_2\\speech_testing_manifest.json\n",
                        "INFO:root:Train: Skip 0 samples. Get 675 segments!=> old_data\\manifest_2\\speech_training_manifest.json\n",
                        "INFO:root:=== Write background data to manifest!\n",
                        "INFO:root:Val: Skip 0 samples. Get 631 segments! => old_data\\manifest_2\\background_validation_manifest.json\n",
                        "INFO:root:Test: Skip 0 samples. Get 6063 segments! => old_data\\manifest_2\\background_testing_manifest.json\n",
                        "INFO:root:Train: Skip 0 samples. Get 1604 segments! => old_data\\manifest_2\\background_training_manifest.json\n",
                        "INFO:root:Finish generating manifest!\n",
                        "INFO:root:Rebalancing number of samples in classes using over sampling.\n",
                        "INFO:root:Val: 631 Test: 6063 Train: 1604!\n",
                        "INFO:root:Get 85/85 to  old_data\\manifest_2\\balanced_background_validation_manifest.json from old_data\\manifest_2\\background_validation_manifest.json\n",
                        "INFO:root:Get 5100/5100 to  old_data\\manifest_2\\balanced_background_testing_manifest.json from old_data\\manifest_2\\background_testing_manifest.json\n",
                        "INFO:root:Get 675/675 to  old_data\\manifest_2\\balanced_background_training_manifest.json from old_data\\manifest_2\\background_training_manifest.json\n",
                        "INFO:root:Get 631/631 to  old_data\\manifest_2\\balanced_speech_validation_manifest.json from old_data\\manifest_2\\speech_validation_manifest.json\n",
                        "INFO:root:Get 6063/6063 to  old_data\\manifest_2\\balanced_speech_testing_manifest.json from old_data\\manifest_2\\speech_testing_manifest.json\n",
                        "INFO:root:Get 1604/1604 to  old_data\\manifest_2\\balanced_speech_training_manifest.json from old_data\\manifest_2\\speech_training_manifest.json\n"
                    ]
                }
            ],
            "source": [
                "# This may take a few minutes\n",
                "!python $script_2 \\\n",
                "    --out_dir={out_dir} \\\n",
                "    --speech_data_root={speech_data_root_2} \\\n",
                "    --background_data_root={background_data_root_2}\\\n",
                "    --log \\\n",
                "    --rebalance_method=over"
            ]
        },
        {
            "attachments": {},
            "cell_type": "markdown",
            "metadata": {
                "colab_type": "text",
                "id": "TTsxp0nZ1zqo"
            },
            "source": [
                "## Preparing the manifest file\n",
                "\n",
                "Manifest files are the data structure used by NeMo to declare a few important details about the data :\n",
                "\n",
                "1) `audio_filepath`: Refers to the path to the raw audio file <br>\n",
                "2) `label`: The class label (speech or background) of this sample <br>\n",
                "3) `duration`: The length of the audio file, in seconds.<br>\n",
                "4) `offset`: The start of the segment, in seconds."
            ]
        },
        {
            "cell_type": "code",
            "execution_count": 9,
            "metadata": {
                "colab": {},
                "colab_type": "code",
                "id": "ytTFGVe0g9wk"
            },
            "outputs": [],
            "source": [
                "# change below if you don't have or don't want to use rebalanced data\n",
                "train_dataset = 'data/manifest/balanced_background_training_manifest.json,data/manifest/balanced_speech_training_manifest.json' \n",
                "val_dataset = 'data/manifest/background_validation_manifest.json,data/manifest/speech_validation_manifest.json' \n",
                "test_dataset = 'data/manifest/balanced_background_testing_manifest.json,data/manifest/balanced_speech_testing_manifest.json' "
            ]
        },
        {
            "attachments": {},
            "cell_type": "markdown",
            "metadata": {
                "colab_type": "text",
                "id": "s0SZy9SEhOBf"
            },
            "source": [
                "## Read a few rows of the manifest file \n",
                "\n",
                "Manifest files are the data structure used by NeMo to declare a few important details about the data :\n",
                "\n",
                "1) `audio_filepath`: Refers to the path to the raw audio file <br>\n",
                "2) `command`: The class label (or speech command) of this sample <br>\n",
                "3) `duration`: The length of the audio file, in seconds."
            ]
        },
        {
            "cell_type": "code",
            "execution_count": 10,
            "metadata": {},
            "outputs": [],
            "source": [
                "sample_test_dataset =  test_dataset.split(',')[0]"
            ]
        },
        {
            "cell_type": "code",
            "execution_count": 8,
            "metadata": {
                "colab": {},
                "colab_type": "code",
                "id": "HYBidCMIhKQV",
                "scrolled": true
            },
            "outputs": [
                {
                    "name": "stderr",
                    "output_type": "stream",
                    "text": [
                        "'head'��(��) ���� �Ǵ� �ܺ� ����, ������ �� �ִ� ���α׷�, �Ǵ�\n",
                        "��ġ ������ �ƴմϴ�.\n"
                    ]
                }
            ],
            "source": [
                "!head -n 5 {sample_test_dataset}"
            ]
        },
        {
            "attachments": {},
            "cell_type": "markdown",
            "metadata": {},
            "source": [
                "# Training - Preparation\n",
                "\n",
                "We will be training a MarbleNet model from paper \"[MarbleNet: Deep 1D Time-Channel Separable Convolutional Neural Network for Voice Activity Detection](https://arxiv.org/abs/2010.13886)\", evolved from [QuartzNet](https://arxiv.org/pdf/1910.10261.pdf) and [MatchboxNet](https://arxiv.org/abs/2004.08531) model. The benefit of QuartzNet over JASPER models is that they use Separable Convolutions, which greatly reduce the number of parameters required to get good model accuracy.\n",
                "\n",
                "MarbleNet models generally follow the model definition pattern QuartzNet-[BxRXC], where B is the number of blocks, R is the number of convolutional sub-blocks, and C is the number of channels in these blocks. Each sub-block contains a 1-D masked convolution, batch normalization, ReLU, and dropout.\n"
            ]
        },
        {
            "cell_type": "code",
            "execution_count": 11,
            "metadata": {
                "colab": {},
                "colab_type": "code",
                "id": "ieAPOM9thTN2"
            },
            "outputs": [],
            "source": [
                "# NeMo's \"core\" package\n",
                "import nemo\n",
                "# NeMo's ASR collection - this collections contains complete ASR models and\n",
                "# building blocks (modules) for ASR\n",
                "import nemo.collections.asr as nemo_asr"
            ]
        },
        {
            "attachments": {},
            "cell_type": "markdown",
            "metadata": {
                "colab_type": "text",
                "id": "ss9gLcDv30jI"
            },
            "source": [
                "## Model Configuration\n",
                "The MarbleNet Model is defined in a config file which declares multiple important sections.\n",
                "\n",
                "They are:\n",
                "\n",
                "1) `model`: All arguments that will relate to the Model - preprocessors, encoder, decoder, optimizer and schedulers, datasets and any other related information\n",
                "\n",
                "2) `trainer`: Any argument to be passed to PyTorch Lightning"
            ]
        },
        {
            "cell_type": "code",
            "execution_count": 12,
            "metadata": {},
            "outputs": [],
            "source": [
                "MODEL_CONFIG = \"marblenet_3x2x64.yaml\"\n",
                "\n",
                "if not os.path.exists(f\"configs/{MODEL_CONFIG}\"):\n",
                "  !wget -P configs/ \"https://raw.githubusercontent.com/NVIDIA/NeMo/$BRANCH/examples/asr/conf/marblenet/{MODEL_CONFIG}\""
            ]
        },
        {
            "cell_type": "code",
            "execution_count": 13,
            "metadata": {
                "colab": {},
                "colab_type": "code",
                "id": "yoVAs9h1lfci",
                "scrolled": true
            },
            "outputs": [
                {
                    "name": "stdout",
                    "output_type": "stream",
                    "text": [
                        "name: MarbleNet-3x2x64\n",
                        "model:\n",
                        "  sample_rate: 16000\n",
                        "  repeat: 2\n",
                        "  dropout: 0.0\n",
                        "  kernel_size_factor: 1.0\n",
                        "  labels:\n",
                        "  - background\n",
                        "  - speech\n",
                        "  train_ds:\n",
                        "    manifest_filepath: ???\n",
                        "    sample_rate: 16000\n",
                        "    labels:\n",
                        "    - background\n",
                        "    - speech\n",
                        "    batch_size: 128\n",
                        "    shuffle: true\n",
                        "    is_tarred: false\n",
                        "    tarred_audio_filepaths: null\n",
                        "    tarred_shard_strategy: scatter\n",
                        "    shuffle_n: 2048\n",
                        "    num_workers: 0\n",
                        "    pin_memory: true\n",
                        "    bucketing_strategy: synced_randomized\n",
                        "    bucketing_batch_size: null\n",
                        "    bucketing_weights: null\n",
                        "    augmentor:\n",
                        "      shift:\n",
                        "        prob: 1.0\n",
                        "        min_shift_ms: -5.0\n",
                        "        max_shift_ms: 5.0\n",
                        "      white_noise:\n",
                        "        prob: 1.0\n",
                        "        min_level: -90\n",
                        "        max_level: -46\n",
                        "  validation_ds:\n",
                        "    manifest_filepath: ???\n",
                        "    sample_rate: 16000\n",
                        "    labels:\n",
                        "    - background\n",
                        "    - speech\n",
                        "    batch_size: 128\n",
                        "    shuffle: false\n",
                        "    num_workers: 0\n",
                        "    pin_memory: true\n",
                        "    val_loss_idx: 0\n",
                        "  test_ds:\n",
                        "    manifest_filepath: null\n",
                        "    sample_rate: 16000\n",
                        "    labels:\n",
                        "    - background\n",
                        "    - speech\n",
                        "    batch_size: 128\n",
                        "    shuffle: false\n",
                        "    num_workers: 0\n",
                        "    pin_memory: true\n",
                        "    test_loss_idx: 0\n",
                        "  preprocessor:\n",
                        "    _target_: nemo.collections.asr.modules.AudioToMFCCPreprocessor\n",
                        "    window_size: 0.025\n",
                        "    window_stride: 0.01\n",
                        "    window: hann\n",
                        "    n_mels: 64\n",
                        "    n_mfcc: 64\n",
                        "    n_fft: 512\n",
                        "  spec_augment:\n",
                        "    _target_: nemo.collections.asr.modules.SpectrogramAugmentation\n",
                        "    freq_masks: 2\n",
                        "    time_masks: 2\n",
                        "    freq_width: 15\n",
                        "    time_width: 25\n",
                        "    rect_masks: 5\n",
                        "    rect_time: 25\n",
                        "    rect_freq: 15\n",
                        "  encoder:\n",
                        "    _target_: nemo.collections.asr.modules.ConvASREncoder\n",
                        "    feat_in: 64\n",
                        "    activation: relu\n",
                        "    conv_mask: true\n",
                        "    jasper:\n",
                        "    - filters: 128\n",
                        "      repeat: 1\n",
                        "      kernel:\n",
                        "      - 11\n",
                        "      stride:\n",
                        "      - 1\n",
                        "      dilation:\n",
                        "      - 1\n",
                        "      dropout: 0.0\n",
                        "      residual: false\n",
                        "      separable: true\n",
                        "      kernel_size_factor: 1.0\n",
                        "    - filters: 64\n",
                        "      repeat: 2\n",
                        "      kernel:\n",
                        "      - 13\n",
                        "      stride:\n",
                        "      - 1\n",
                        "      dilation:\n",
                        "      - 1\n",
                        "      dropout: 0.0\n",
                        "      residual: true\n",
                        "      separable: true\n",
                        "      kernel_size_factor: 1.0\n",
                        "    - filters: 64\n",
                        "      repeat: 2\n",
                        "      kernel:\n",
                        "      - 15\n",
                        "      stride:\n",
                        "      - 1\n",
                        "      dilation:\n",
                        "      - 1\n",
                        "      dropout: 0.0\n",
                        "      residual: true\n",
                        "      separable: true\n",
                        "      kernel_size_factor: 1.0\n",
                        "    - filters: 64\n",
                        "      repeat: 2\n",
                        "      kernel:\n",
                        "      - 17\n",
                        "      stride:\n",
                        "      - 1\n",
                        "      dilation:\n",
                        "      - 1\n",
                        "      dropout: 0.0\n",
                        "      residual: true\n",
                        "      separable: true\n",
                        "      kernel_size_factor: 1.0\n",
                        "    - filters: 128\n",
                        "      repeat: 1\n",
                        "      kernel:\n",
                        "      - 29\n",
                        "      stride:\n",
                        "      - 1\n",
                        "      dilation:\n",
                        "      - 2\n",
                        "      dropout: 0.0\n",
                        "      residual: false\n",
                        "      separable: true\n",
                        "      kernel_size_factor: 1.0\n",
                        "    - filters: 128\n",
                        "      repeat: 1\n",
                        "      kernel:\n",
                        "      - 1\n",
                        "      stride:\n",
                        "      - 1\n",
                        "      dilation:\n",
                        "      - 1\n",
                        "      dropout: 0.0\n",
                        "      residual: false\n",
                        "  decoder:\n",
                        "    _target_: nemo.collections.asr.modules.ConvASRDecoderClassification\n",
                        "    feat_in: 128\n",
                        "    return_logits: true\n",
                        "    pooling_type: avg\n",
                        "  optim:\n",
                        "    name: sgd\n",
                        "    lr: 0.01\n",
                        "    weight_decay: 0.001\n",
                        "    momentum: 0.9\n",
                        "    sched:\n",
                        "      name: PolynomialHoldDecayAnnealing\n",
                        "      power: 2.0\n",
                        "      warmup_ratio: 0.05\n",
                        "      hold_ratio: 0.45\n",
                        "      min_lr: 0.001\n",
                        "      last_epoch: -1\n",
                        "trainer:\n",
                        "  devices: 1\n",
                        "  max_epochs: 150\n",
                        "  max_steps: -1\n",
                        "  num_nodes: 1\n",
                        "  accelerator: gpu\n",
                        "  strategy: ddp\n",
                        "  accumulate_grad_batches: 1\n",
                        "  enable_checkpointing: false\n",
                        "  logger: false\n",
                        "  log_every_n_steps: 1\n",
                        "  val_check_interval: 1.0\n",
                        "  benchmark: false\n",
                        "exp_manager:\n",
                        "  exp_dir: null\n",
                        "  name: MarbleNet-3x2x64\n",
                        "  create_tensorboard_logger: true\n",
                        "  create_checkpoint_callback: true\n",
                        "  create_wandb_logger: false\n",
                        "  wandb_logger_kwargs:\n",
                        "    name: null\n",
                        "    project: null\n",
                        "\n"
                    ]
                }
            ],
            "source": [
                "# This line will print the entire config of the MarbleNet model\n",
                "config_path = f\"configs/{MODEL_CONFIG}\"\n",
                "config = OmegaConf.load(config_path)\n",
                "config = OmegaConf.to_container(config, resolve=True)\n",
                "config = OmegaConf.create(config)\n",
                "\n",
                "print(OmegaConf.to_yaml(config))"
            ]
        },
        {
            "cell_type": "code",
            "execution_count": 14,
            "metadata": {
                "colab": {},
                "colab_type": "code",
                "id": "m2lJPR0a3qww"
            },
            "outputs": [],
            "source": [
                "# Preserve some useful parameters\n",
                "labels = config.model.labels\n",
                "sample_rate = config.model.sample_rate"
            ]
        },
        {
            "attachments": {},
            "cell_type": "markdown",
            "metadata": {
                "colab_type": "text",
                "id": "8_pmjeed78rJ"
            },
            "source": [
                "### Setting up the datasets within the config\n",
                "\n",
                "If you'll notice, there are a few config dictionaries called `train_ds`, `validation_ds` and `test_ds`. These are configurations used to setup the Dataset and DataLoaders of the corresponding config.\n",
                "\n"
            ]
        },
        {
            "cell_type": "code",
            "execution_count": 15,
            "metadata": {
                "colab": {},
                "colab_type": "code",
                "id": "DIe6Qfs18MiQ"
            },
            "outputs": [
                {
                    "name": "stdout",
                    "output_type": "stream",
                    "text": [
                        "manifest_filepath: ???\n",
                        "sample_rate: 16000\n",
                        "labels:\n",
                        "- background\n",
                        "- speech\n",
                        "batch_size: 128\n",
                        "shuffle: true\n",
                        "is_tarred: false\n",
                        "tarred_audio_filepaths: null\n",
                        "tarred_shard_strategy: scatter\n",
                        "shuffle_n: 2048\n",
                        "num_workers: 0\n",
                        "pin_memory: true\n",
                        "bucketing_strategy: synced_randomized\n",
                        "bucketing_batch_size: null\n",
                        "bucketing_weights: null\n",
                        "augmentor:\n",
                        "  shift:\n",
                        "    prob: 1.0\n",
                        "    min_shift_ms: -5.0\n",
                        "    max_shift_ms: 5.0\n",
                        "  white_noise:\n",
                        "    prob: 1.0\n",
                        "    min_level: -90\n",
                        "    max_level: -46\n",
                        "\n"
                    ]
                }
            ],
            "source": [
                "print(OmegaConf.to_yaml(config.model.train_ds))"
            ]
        },
        {
            "attachments": {},
            "cell_type": "markdown",
            "metadata": {
                "colab_type": "text",
                "id": "Fb01hl868Uc3"
            },
            "source": [
                "### `???` inside configs\n",
                "\n",
                "You will often notice that some configs have `???` in place of paths. This is used as a placeholder so that the user can change the value at a later time.\n",
                "\n",
                "Let's add the paths to the manifests to the config above."
            ]
        },
        {
            "cell_type": "code",
            "execution_count": 16,
            "metadata": {
                "colab": {},
                "colab_type": "code",
                "id": "m181HXev8T97"
            },
            "outputs": [],
            "source": [
                "config.model.train_ds.manifest_filepath = train_dataset\n",
                "config.model.validation_ds.manifest_filepath = val_dataset\n",
                "config.model.test_ds.manifest_filepath = test_dataset"
            ]
        },
        {
            "attachments": {},
            "cell_type": "markdown",
            "metadata": {
                "colab_type": "text",
                "id": "pbXngoCM5IRG"
            },
            "source": [
                "## Building the PyTorch Lightning Trainer\n",
                "\n",
                "NeMo models are primarily PyTorch Lightning modules - and therefore are entirely compatible with the PyTorch Lightning ecosystem!\n",
                "\n",
                "Let's first instantiate a Trainer object!"
            ]
        },
        {
            "cell_type": "code",
            "execution_count": 17,
            "metadata": {
                "colab": {},
                "colab_type": "code",
                "id": "bYtvdBlG5afU"
            },
            "outputs": [],
            "source": [
                "import torch\n",
                "import pytorch_lightning as pl"
            ]
        },
        {
            "cell_type": "code",
            "execution_count": 18,
            "metadata": {
                "colab": {},
                "colab_type": "code",
                "id": "jRN18CdH51nN"
            },
            "outputs": [
                {
                    "name": "stdout",
                    "output_type": "stream",
                    "text": [
                        "Trainer config - \n",
                        "\n",
                        "devices: 1\n",
                        "max_epochs: 150\n",
                        "max_steps: -1\n",
                        "num_nodes: 1\n",
                        "accelerator: gpu\n",
                        "strategy: ddp\n",
                        "accumulate_grad_batches: 1\n",
                        "enable_checkpointing: false\n",
                        "logger: false\n",
                        "log_every_n_steps: 1\n",
                        "val_check_interval: 1.0\n",
                        "benchmark: false\n",
                        "\n"
                    ]
                }
            ],
            "source": [
                "print(\"Trainer config - \\n\")\n",
                "print(OmegaConf.to_yaml(config.trainer))"
            ]
        },
        {
            "cell_type": "code",
            "execution_count": 19,
            "metadata": {
                "colab": {},
                "colab_type": "code",
                "id": "gHf6cHvm6H9b"
            },
            "outputs": [],
            "source": [
                "# Let's modify some trainer configs for this demo\n",
                "# Checks if we have GPU available and uses it\n",
                "accelerator = 'gpu' if torch.cuda.is_available() else 'cpu'\n",
                "config.trainer.devices = 1\n",
                "config.trainer.accelerator = accelerator\n",
                "\n",
                "# Reduces maximum number of epochs to 5 for quick demonstration\n",
                "config.trainer.max_epochs = 5\n",
                "\n",
                "# Remove distributed training flags\n",
                "config.trainer.strategy = 'auto'"
            ]
        },
        {
            "cell_type": "code",
            "execution_count": 51,
            "metadata": {
                "colab": {},
                "colab_type": "code",
                "id": "UB9nr7G56G3L"
            },
            "outputs": [
                {
                    "name": "stderr",
                    "output_type": "stream",
                    "text": [
                        "GPU available: False, used: False\n",
                        "TPU available: False, using: 0 TPU cores\n",
                        "HPU available: False, using: 0 HPUs\n",
                        "`Trainer(val_check_interval=1.0)` was configured so validation will run at the end of the training epoch..\n"
                    ]
                }
            ],
            "source": [
                "trainer = pl.Trainer(**config.trainer)"
            ]
        },
        {
            "attachments": {},
            "cell_type": "markdown",
            "metadata": {
                "colab_type": "text",
                "id": "2wt603Vq6sqX"
            },
            "source": [
                "## Setting up a NeMo Experiment\n",
                "\n",
                "NeMo has an experiment manager that handles logging and checkpointing for us, so let's use it ! "
            ]
        },
        {
            "cell_type": "code",
            "execution_count": 21,
            "metadata": {
                "colab": {},
                "colab_type": "code",
                "id": "TfWJFg7p6Ezf"
            },
            "outputs": [],
            "source": [
                "from nemo.utils.exp_manager import exp_manager"
            ]
        },
        {
            "cell_type": "code",
            "execution_count": 22,
            "metadata": {
                "colab": {},
                "colab_type": "code",
                "id": "SC-QPoW44-p2"
            },
            "outputs": [
                {
                    "name": "stdout",
                    "output_type": "stream",
                    "text": [
                        "[NeMo I 2024-07-15 11:02:32 nemo_logging:381] Experiments will be logged at c:\\Users\\conta\\OneDrive\\바탕 화면\\프로젝트\\Marblenet\\nemo_experiments\\MarbleNet-3x2x64\\2024-07-15_11-02-32\n",
                        "[NeMo I 2024-07-15 11:02:32 nemo_logging:381] TensorboardLogger has been set up\n",
                        "[NeMo I 2024-07-15 11:02:32 nemo_logging:381] Preemption is supported only on GPUs, disabling preemption\n"
                    ]
                }
            ],
            "source": [
                "exp_dir = exp_manager(trainer, config.get(\"exp_manager\", None))"
            ]
        },
        {
            "cell_type": "code",
            "execution_count": 23,
            "metadata": {
                "colab": {},
                "colab_type": "code",
                "id": "Yqi6rkNR7Dph"
            },
            "outputs": [
                {
                    "data": {
                        "text/plain": [
                            "'c:\\\\Users\\\\conta\\\\OneDrive\\\\바탕 화면\\\\프로젝트\\\\Marblenet\\\\nemo_experiments\\\\MarbleNet-3x2x64\\\\2024-07-15_11-02-32'"
                        ]
                    },
                    "execution_count": 23,
                    "metadata": {},
                    "output_type": "execute_result"
                }
            ],
            "source": [
                "# The exp_dir provides a path to the current experiment for easy access\n",
                "exp_dir = str(exp_dir)\n",
                "exp_dir"
            ]
        },
        {
            "attachments": {},
            "cell_type": "markdown",
            "metadata": {
                "colab_type": "text",
                "id": "t0zz-vHH7Uuh"
            },
            "source": [
                "## Building the MarbleNet Model\n",
                "\n",
                "MarbleNet is an ASR model with a classification task - it generates one label for the entire provided audio stream. Therefore we encapsulate it inside the `EncDecClassificationModel` as follows."
            ]
        },
        {
            "cell_type": "code",
            "execution_count": 25,
            "metadata": {
                "colab": {},
                "colab_type": "code",
                "id": "FRMrKhyf5vhy",
                "scrolled": true
            },
            "outputs": [
                {
                    "name": "stdout",
                    "output_type": "stream",
                    "text": [
                        "[NeMo I 2024-07-15 11:03:11 nemo_logging:381] Filtered duration for loading collection is  0.00 hours.\n",
                        "[NeMo I 2024-07-15 11:03:11 nemo_logging:381] Dataset loaded with 926 items, total duration of  0.16 hours.\n",
                        "[NeMo I 2024-07-15 11:03:11 nemo_logging:381] # 926 files loaded accounting to # 2 labels\n",
                        "[NeMo I 2024-07-15 11:03:11 nemo_logging:381] Filtered duration for loading collection is  0.00 hours.\n",
                        "[NeMo I 2024-07-15 11:03:11 nemo_logging:381] Dataset loaded with 149 items, total duration of  0.03 hours.\n",
                        "[NeMo I 2024-07-15 11:03:11 nemo_logging:381] # 149 files loaded accounting to # 2 labels\n",
                        "[NeMo I 2024-07-15 11:03:11 nemo_logging:381] Filtered duration for loading collection is  0.00 hours.\n",
                        "[NeMo I 2024-07-15 11:03:11 nemo_logging:381] Dataset loaded with 2003 items, total duration of  0.35 hours.\n",
                        "[NeMo I 2024-07-15 11:03:11 nemo_logging:381] # 2003 files loaded accounting to # 2 labels\n",
                        "[NeMo I 2024-07-15 11:03:11 nemo_logging:381] Numba CUDA SpecAugment kernel is being used\n"
                    ]
                }
            ],
            "source": [
                "vad_model = nemo_asr.models.EncDecClassificationModel(cfg=config.model, trainer=trainer)"
            ]
        },
        {
            "attachments": {},
            "cell_type": "markdown",
            "metadata": {
                "colab_type": "text",
                "id": "jA9UND-Q_oyw"
            },
            "source": [
                "# Training a MarbleNet Model\n",
                "\n",
                "As MarbleNet is inherently a PyTorch Lightning Model, it can easily be trained in a single line - `trainer.fit(model)` !\n",
                "\n",
                "\n",
                "# Training the model\n",
                "\n",
                "Even with such a small model (73k parameters), and just 5 epochs (should take just a few minutes to train), you should be able to get a test set accuracy score around 98.83% (this result is for the [freesound](https://freesound.org/) dataset) with enough training data. \n",
                "\n",
                "**NOTE:** If you follow our tutorial and user the generated background data, you may notice the below results are acceptable, but please remember, this tutorial is only for **demonstration** and the dataset is not good enough. Please change background dataset and train with enough data for improvement!\n",
                "\n",
                "Experiment with increasing the number of epochs or with batch size to see how much you can improve the score! \n",
                "\n",
                "**NOTE:** Noise robustness is quite important for VAD task. Below we list the augmentation we used in this demo. \n",
                "Please refer to [Online_Noise_Augmentation.ipynb](https://github.com/NVIDIA/NeMo/blob/stable/tutorials/asr/Online_Noise_Augmentation.ipynb)  for understanding noise augmentation in NeMo.\n",
                "\n",
                "\n"
            ]
        },
        {
            "cell_type": "code",
            "execution_count": 26,
            "metadata": {},
            "outputs": [
                {
                    "name": "stdout",
                    "output_type": "stream",
                    "text": [
                        "shift:\n",
                        "  prob: 1.0\n",
                        "  min_shift_ms: -5.0\n",
                        "  max_shift_ms: 5.0\n",
                        "white_noise:\n",
                        "  prob: 1.0\n",
                        "  min_level: -90\n",
                        "  max_level: -46\n",
                        "\n",
                        "_target_: nemo.collections.asr.modules.SpectrogramAugmentation\n",
                        "freq_masks: 2\n",
                        "time_masks: 2\n",
                        "freq_width: 15\n",
                        "time_width: 25\n",
                        "rect_masks: 5\n",
                        "rect_time: 25\n",
                        "rect_freq: 15\n",
                        "\n"
                    ]
                }
            ],
            "source": [
                "# Noise augmentation\n",
                "print(OmegaConf.to_yaml(config.model.train_ds.augmentor)) # noise augmentation\n",
                "print(OmegaConf.to_yaml(config.model.spec_augment)) # SpecAug data augmentation"
            ]
        },
        {
            "attachments": {},
            "cell_type": "markdown",
            "metadata": {},
            "source": [
                "If you are interested in  **pretrained** model, please have a look at [Transfer Leaning & Fine-tuning on a new dataset](#Transfer-Leaning-&-Fine-tuning-on-a-new-dataset) and incoming tutorial 07 Offline_and_Online_VAD_Demo\n"
            ]
        },
        {
            "attachments": {},
            "cell_type": "markdown",
            "metadata": {
                "colab_type": "text",
                "id": "3ngKcRFqBfIF"
            },
            "source": [
                "### Monitoring training progress\n",
                "\n",
                "Before we begin training, let's first create a Tensorboard visualization to monitor progress\n"
            ]
        },
        {
            "cell_type": "code",
            "execution_count": 27,
            "metadata": {
                "colab": {},
                "colab_type": "code",
                "id": "Cyfec0PDBsXa"
            },
            "outputs": [
                {
                    "name": "stdout",
                    "output_type": "stream",
                    "text": [
                        "To use tensorboard, please use this notebook in a Google Colab environment.\n"
                    ]
                }
            ],
            "source": [
                "try:\n",
                "    from google import colab\n",
                "    COLAB_ENV = True\n",
                "except (ImportError, ModuleNotFoundError):\n",
                "    COLAB_ENV = False\n",
                "\n",
                "# Load the TensorBoard notebook extension\n",
                "if COLAB_ENV:\n",
                "    %load_ext tensorboard\n",
                "    %tensorboard --logdir {exp_dir}\n",
                "else:\n",
                "    print(\"To use tensorboard, please use this notebook in a Google Colab environment.\")"
            ]
        },
        {
            "attachments": {},
            "cell_type": "markdown",
            "metadata": {
                "colab_type": "text",
                "id": "ZApuELDIKQgC"
            },
            "source": [
                "### Training for 5 epochs\n",
                "We see below that the model begins to get modest scores on the validation set after just 5 epochs of training"
            ]
        },
        {
            "cell_type": "code",
            "execution_count": 52,
            "metadata": {
                "colab": {},
                "colab_type": "code",
                "id": "9xiUUJlH5KdD"
            },
            "outputs": [
                {
                    "name": "stdout",
                    "output_type": "stream",
                    "text": [
                        "[NeMo I 2024-07-15 11:13:48 nemo_logging:381] Optimizer config = SGD (\n",
                        "    Parameter Group 0\n",
                        "        dampening: 0\n",
                        "        differentiable: False\n",
                        "        foreach: None\n",
                        "        fused: None\n",
                        "        lr: 0.01\n",
                        "        maximize: False\n",
                        "        momentum: 0.9\n",
                        "        nesterov: False\n",
                        "        weight_decay: 0.001\n",
                        "    )\n",
                        "[NeMo I 2024-07-15 11:13:48 nemo_logging:381] Scheduler \"<nemo.core.optim.lr_scheduler.PolynomialHoldDecayAnnealing object at 0x00000223796F3510>\" \n",
                        "    will be used during training (effective maximum steps = 40) - \n",
                        "    Parameters : \n",
                        "    (power: 2.0\n",
                        "    warmup_ratio: 0.05\n",
                        "    hold_ratio: 0.45\n",
                        "    min_lr: 0.001\n",
                        "    last_epoch: -1\n",
                        "    max_steps: 40\n",
                        "    )\n"
                    ]
                },
                {
                    "name": "stderr",
                    "output_type": "stream",
                    "text": [
                        "\n",
                        "  | Name              | Type                         | Params | Mode\n",
                        "--------------------------------------------------------------------------\n",
                        "0 | spec_augmentation | SpectrogramAugmentation      | 0      | eval\n",
                        "1 | preprocessor      | AudioToMFCCPreprocessor      | 0      | eval\n",
                        "2 | encoder           | ConvASREncoder               | 88.9 K | eval\n",
                        "3 | decoder           | ConvASRDecoderClassification | 258    | eval\n",
                        "4 | loss              | CrossEntropyLoss             | 0      | eval\n",
                        "5 | _accuracy         | TopKClassificationAccuracy   | 0      | eval\n",
                        "--------------------------------------------------------------------------\n",
                        "89.2 K    Trainable params\n",
                        "0         Non-trainable params\n",
                        "89.2 K    Total params\n",
                        "0.357     Total estimated model params size (MB)\n"
                    ]
                },
                {
                    "data": {
                        "application/vnd.jupyter.widget-view+json": {
                            "model_id": "7deb411596744fdbab3b031a3fbe31d6",
                            "version_major": 2,
                            "version_minor": 0
                        },
                        "text/plain": [
                            "Sanity Checking: |          | 0/? [00:00<?, ?it/s]"
                        ]
                    },
                    "metadata": {},
                    "output_type": "display_data"
                },
                {
                    "data": {
                        "application/vnd.jupyter.widget-view+json": {
                            "model_id": "ad967e9baa244a0bbc0bd3bdc2286445",
                            "version_major": 2,
                            "version_minor": 0
                        },
                        "text/plain": [
                            "Training: |          | 0/? [00:00<?, ?it/s]"
                        ]
                    },
                    "metadata": {},
                    "output_type": "display_data"
                },
                {
                    "data": {
                        "application/vnd.jupyter.widget-view+json": {
                            "model_id": "c1dddd1084af4e8d9fa3400ec402c1e9",
                            "version_major": 2,
                            "version_minor": 0
                        },
                        "text/plain": [
                            "Validation: |          | 0/? [00:00<?, ?it/s]"
                        ]
                    },
                    "metadata": {},
                    "output_type": "display_data"
                },
                {
                    "data": {
                        "application/vnd.jupyter.widget-view+json": {
                            "model_id": "e667782981d441ebb193db51370aefe8",
                            "version_major": 2,
                            "version_minor": 0
                        },
                        "text/plain": [
                            "Validation: |          | 0/? [00:00<?, ?it/s]"
                        ]
                    },
                    "metadata": {},
                    "output_type": "display_data"
                },
                {
                    "data": {
                        "application/vnd.jupyter.widget-view+json": {
                            "model_id": "1c0392555dfa46fa91110cd593b90ed9",
                            "version_major": 2,
                            "version_minor": 0
                        },
                        "text/plain": [
                            "Validation: |          | 0/? [00:00<?, ?it/s]"
                        ]
                    },
                    "metadata": {},
                    "output_type": "display_data"
                },
                {
                    "data": {
                        "application/vnd.jupyter.widget-view+json": {
                            "model_id": "e6c167e17bac466aaf9b25beb6f2815e",
                            "version_major": 2,
                            "version_minor": 0
                        },
                        "text/plain": [
                            "Validation: |          | 0/? [00:00<?, ?it/s]"
                        ]
                    },
                    "metadata": {},
                    "output_type": "display_data"
                },
                {
                    "data": {
                        "application/vnd.jupyter.widget-view+json": {
                            "model_id": "f46cda97b20545b082b217f49c71bf66",
                            "version_major": 2,
                            "version_minor": 0
                        },
                        "text/plain": [
                            "Validation: |          | 0/? [00:00<?, ?it/s]"
                        ]
                    },
                    "metadata": {},
                    "output_type": "display_data"
                },
                {
                    "name": "stderr",
                    "output_type": "stream",
                    "text": [
                        "`Trainer.fit` stopped: `max_epochs=5` reached.\n"
                    ]
                }
            ],
            "source": [
                "trainer.fit(vad_model)"
            ]
        },
        {
            "attachments": {},
            "cell_type": "markdown",
            "metadata": {},
            "source": [
                "# Fast Training\n",
                "\n",
                "We can dramatically improve the time taken to train this model by using Multi GPU training along with Mixed Precision.\n",
                "\n",
                "```python\n",
                "# Trainer with a distributed backend:\n",
                "trainer = Trainer(devices=2, num_nodes=2, accelerator='gpu', strategy='auto')\n",
                "\n",
                "# Mixed precision:\n",
                "trainer = Trainer(amp_level='O1', precision=16)\n",
                "\n",
                "# Of course, you can combine these flags as well.\n",
                "```"
            ]
        },
        {
            "attachments": {},
            "cell_type": "markdown",
            "metadata": {
                "colab_type": "text",
                "id": "Dkds1jSvKgSc"
            },
            "source": [
                "# Evaluation\n",
                "\n",
                "## Evaluation on the Test set\n",
                "\n",
                "Let's compute the final score on the test set via `trainer.test(model)`"
            ]
        },
        {
            "cell_type": "code",
            "execution_count": 53,
            "metadata": {
                "colab": {},
                "colab_type": "code",
                "id": "mULTrhEJ_6wV",
                "scrolled": true
            },
            "outputs": [
                {
                    "name": "stderr",
                    "output_type": "stream",
                    "text": [
                        "[NeMo W 2024-07-15 11:14:16 nemo_logging:393] c:\\Users\\conta\\anaconda3\\envs\\Marblenet\\Lib\\site-packages\\pytorch_lightning\\trainer\\connectors\\data_connector.py:424: The 'test_dataloader' does not have many workers which may be a bottleneck. Consider increasing the value of the `num_workers` argument` to `num_workers=15` in the `DataLoader` to improve performance.\n",
                        "    \n"
                    ]
                },
                {
                    "data": {
                        "application/vnd.jupyter.widget-view+json": {
                            "model_id": "7f71ffaaecb84df89f6e938db159136f",
                            "version_major": 2,
                            "version_minor": 0
                        },
                        "text/plain": [
                            "Testing: |          | 0/? [00:00<?, ?it/s]"
                        ]
                    },
                    "metadata": {},
                    "output_type": "display_data"
                },
                {
                    "data": {
                        "text/html": [
                            "<pre style=\"white-space:pre;overflow-x:auto;line-height:normal;font-family:Menlo,'DejaVu Sans Mono',consolas,'Courier New',monospace\">┏━━━━━━━━━━━━━━━━━━━━━━━━━━━┳━━━━━━━━━━━━━━━━━━━━━━━━━━━┓\n",
                            "┃<span style=\"font-weight: bold\">        Test metric        </span>┃<span style=\"font-weight: bold\">       DataLoader 0        </span>┃\n",
                            "┡━━━━━━━━━━━━━━━━━━━━━━━━━━━╇━━━━━━━━━━━━━━━━━━━━━━━━━━━┩\n",
                            "│<span style=\"color: #008080; text-decoration-color: #008080\">     test_epoch_top@1      </span>│<span style=\"color: #800080; text-decoration-color: #800080\">    0.9915127158164978     </span>│\n",
                            "│<span style=\"color: #008080; text-decoration-color: #008080\">         test_loss         </span>│<span style=\"color: #800080; text-decoration-color: #800080\">   0.020858071744441986    </span>│\n",
                            "└───────────────────────────┴───────────────────────────┘\n",
                            "</pre>\n"
                        ],
                        "text/plain": [
                            "┏━━━━━━━━━━━━━━━━━━━━━━━━━━━┳━━━━━━━━━━━━━━━━━━━━━━━━━━━┓\n",
                            "┃\u001b[1m \u001b[0m\u001b[1m       Test metric       \u001b[0m\u001b[1m \u001b[0m┃\u001b[1m \u001b[0m\u001b[1m      DataLoader 0       \u001b[0m\u001b[1m \u001b[0m┃\n",
                            "┡━━━━━━━━━━━━━━━━━━━━━━━━━━━╇━━━━━━━━━━━━━━━━━━━━━━━━━━━┩\n",
                            "│\u001b[36m \u001b[0m\u001b[36m    test_epoch_top@1     \u001b[0m\u001b[36m \u001b[0m│\u001b[35m \u001b[0m\u001b[35m   0.9915127158164978    \u001b[0m\u001b[35m \u001b[0m│\n",
                            "│\u001b[36m \u001b[0m\u001b[36m        test_loss        \u001b[0m\u001b[36m \u001b[0m│\u001b[35m \u001b[0m\u001b[35m  0.020858071744441986   \u001b[0m\u001b[35m \u001b[0m│\n",
                            "└───────────────────────────┴───────────────────────────┘\n"
                        ]
                    },
                    "metadata": {},
                    "output_type": "display_data"
                },
                {
                    "data": {
                        "text/plain": [
                            "[{'test_loss': 0.020858071744441986, 'test_epoch_top@1': 0.9915127158164978}]"
                        ]
                    },
                    "execution_count": 53,
                    "metadata": {},
                    "output_type": "execute_result"
                }
            ],
            "source": [
                "trainer.test(vad_model, ckpt_path=None)"
            ]
        },
        {
            "attachments": {},
            "cell_type": "markdown",
            "metadata": {
                "colab_type": "text",
                "id": "ifDHkunjM8y6"
            },
            "source": [
                "## Evaluation of incorrectly predicted samples\n",
                "\n",
                "Given that we have a trained model, which performs reasonably well, let's try to listen to the samples where the model is least confident in its predictions."
            ]
        },
        {
            "attachments": {},
            "cell_type": "markdown",
            "metadata": {
                "colab_type": "text",
                "id": "PcJrZ72sNCkM"
            },
            "source": [
                "### Extract the predictions from the model\n",
                "\n",
                "We want to possess the actual logits of the model instead of just the final evaluation score, so we can define a function to perform the forward step for us without computing the final loss. Instead, we extract the logits per batch of samples provided."
            ]
        },
        {
            "attachments": {},
            "cell_type": "markdown",
            "metadata": {
                "colab_type": "text",
                "id": "rvxdviYtOFjK"
            },
            "source": [
                "### Accessing the data loaders\n",
                "\n",
                "We can utilize the `setup_test_data` method in order to instantiate a data loader for the dataset we want to analyze.\n",
                "\n",
                "For convenience, we can access these instantiated data loaders using the following accessors - `vad_model._train_dl`, `vad_model._validation_dl` and `vad_model._test_dl`."
            ]
        },
        {
            "cell_type": "code",
            "execution_count": 54,
            "metadata": {
                "colab": {},
                "colab_type": "code",
                "id": "CB0QZCAmM656"
            },
            "outputs": [
                {
                    "name": "stdout",
                    "output_type": "stream",
                    "text": [
                        "[NeMo I 2024-07-15 11:14:28 nemo_logging:381] Filtered duration for loading collection is  0.00 hours.\n",
                        "[NeMo I 2024-07-15 11:14:28 nemo_logging:381] Dataset loaded with 2003 items, total duration of  0.35 hours.\n",
                        "[NeMo I 2024-07-15 11:14:28 nemo_logging:381] # 2003 files loaded accounting to # 2 labels\n"
                    ]
                }
            ],
            "source": [
                "vad_model.setup_test_data(config.model.test_ds)\n",
                "test_dl = vad_model._test_dl"
            ]
        },
        {
            "attachments": {},
            "cell_type": "markdown",
            "metadata": {
                "colab_type": "text",
                "id": "rA7gXawcPoip"
            },
            "source": [
                "### Partial Test Step\n",
                "\n",
                "Below we define a utility function to perform most of the test step. For reference, the test step is defined as follows:\n",
                "\n",
                "```python\n",
                "    def test_step(self, batch, batch_idx, dataloader_idx=0):\n",
                "        audio_signal, audio_signal_len, labels, labels_len = batch\n",
                "        logits = self.forward(input_signal=audio_signal, input_signal_length=audio_signal_len)\n",
                "        loss_value = self.loss(logits=logits, labels=labels)\n",
                "        correct_counts, total_counts = self._accuracy(logits=logits, labels=labels)\n",
                "        return {'test_loss': loss_value, 'test_correct_counts': correct_counts, 'test_total_counts': total_counts}\n",
                "```"
            ]
        },
        {
            "cell_type": "code",
            "execution_count": 55,
            "metadata": {
                "colab": {},
                "colab_type": "code",
                "id": "sBsDOm5ROpQI"
            },
            "outputs": [],
            "source": [
                "@torch.no_grad()\n",
                "def extract_logits(model, dataloader):\n",
                "    logits_buffer = []\n",
                "    label_buffer = []\n",
                "\n",
                "    # Follow the above definition of the test_step\n",
                "    for batch in dataloader:\n",
                "        audio_signal, audio_signal_len, labels, labels_len = batch\n",
                "        logits = model(input_signal=audio_signal, input_signal_length=audio_signal_len)\n",
                "\n",
                "        logits_buffer.append(logits)\n",
                "        label_buffer.append(labels)\n",
                "        print(\".\", end='')\n",
                "    print()\n",
                "\n",
                "    print(\"Finished extracting logits !\")\n",
                "    logits = torch.cat(logits_buffer, 0)\n",
                "    labels = torch.cat(label_buffer, 0)\n",
                "    return logits, labels\n"
            ]
        },
        {
            "cell_type": "code",
            "execution_count": 56,
            "metadata": {
                "colab": {},
                "colab_type": "code",
                "id": "mZSdprUlOuoV"
            },
            "outputs": [
                {
                    "name": "stdout",
                    "output_type": "stream",
                    "text": [
                        "................\n",
                        "Finished extracting logits !\n",
                        "Logits: torch.Size([2003, 2]) Labels : torch.Size([2003])\n"
                    ]
                }
            ],
            "source": [
                "cpu_model = vad_model.cpu()\n",
                "cpu_model.eval()\n",
                "logits, labels = extract_logits(cpu_model, test_dl)\n",
                "print(\"Logits:\", logits.shape, \"Labels :\", labels.shape)"
            ]
        },
        {
            "cell_type": "code",
            "execution_count": 57,
            "metadata": {
                "colab": {},
                "colab_type": "code",
                "id": "9Wd0ukgNXRBz",
                "scrolled": true
            },
            "outputs": [
                {
                    "name": "stdout",
                    "output_type": "stream",
                    "text": [
                        "Accuracy : 99.1512680053711 %\n"
                    ]
                }
            ],
            "source": [
                "# Compute accuracy - `_accuracy` is a PyTorch Lightning Metric !\n",
                "acc = cpu_model._accuracy(logits=logits, labels=labels)\n",
                "print(f\"Accuracy : {float(acc[0]*100)} %\")"
            ]
        },
        {
            "attachments": {},
            "cell_type": "markdown",
            "metadata": {
                "colab_type": "text",
                "id": "NwN9OSqCauSH"
            },
            "source": [
                "### Filtering out incorrect samples\n",
                "Let us now filter out the incorrectly labeled samples from the total set of samples in the test set"
            ]
        },
        {
            "cell_type": "code",
            "execution_count": 35,
            "metadata": {
                "colab": {},
                "colab_type": "code",
                "id": "N1YJvsmcZ0uE"
            },
            "outputs": [],
            "source": [
                "import librosa\n",
                "import json\n",
                "import IPython.display as ipd"
            ]
        },
        {
            "cell_type": "code",
            "execution_count": 58,
            "metadata": {
                "colab": {},
                "colab_type": "code",
                "id": "jZAT9yGAayvR"
            },
            "outputs": [],
            "source": [
                "# First let's create a utility class to remap the integer class labels to actual string label\n",
                "class ReverseMapLabel:\n",
                "    def __init__(self, data_loader):\n",
                "        self.label2id = dict(data_loader.dataset.label2id)\n",
                "        self.id2label = dict(data_loader.dataset.id2label)\n",
                "\n",
                "    def __call__(self, pred_idx, label_idx):\n",
                "        return self.id2label[pred_idx], self.id2label[label_idx]"
            ]
        },
        {
            "cell_type": "code",
            "execution_count": 59,
            "metadata": {
                "colab": {},
                "colab_type": "code",
                "id": "X3GSXvYHa4KJ"
            },
            "outputs": [
                {
                    "name": "stdout",
                    "output_type": "stream",
                    "text": [
                        "Num test samples : 2003\n",
                        "Num errors : 17\n"
                    ]
                }
            ],
            "source": [
                "# Next, let's get the indices of all the incorrectly labeled samples\n",
                "sample_idx = 0\n",
                "incorrect_preds = []\n",
                "rev_map = ReverseMapLabel(test_dl)\n",
                "\n",
                "# Remember, evaluated_tensor = (loss, logits, labels)\n",
                "probs = torch.softmax(logits, dim=-1)\n",
                "probas, preds = torch.max(probs, dim=-1)\n",
                "\n",
                "total_count = cpu_model._accuracy.total_counts_k[0]\n",
                "incorrect_ids = (preds != labels).nonzero()\n",
                "for idx in incorrect_ids:\n",
                "    proba = float(probas[idx][0])\n",
                "    pred = int(preds[idx][0])\n",
                "    label = int(labels[idx][0])\n",
                "    idx = int(idx[0]) + sample_idx\n",
                "\n",
                "    incorrect_preds.append((idx, *rev_map(pred, label), proba))\n",
                "    \n",
                "\n",
                "print(f\"Num test samples : {total_count.item()}\")\n",
                "print(f\"Num errors : {len(incorrect_preds)}\")\n",
                "\n",
                "# First let's sort by confidence of prediction\n",
                "incorrect_preds = sorted(incorrect_preds, key=lambda x: x[-1], reverse=False)"
            ]
        },
        {
            "attachments": {},
            "cell_type": "markdown",
            "metadata": {
                "colab_type": "text",
                "id": "0JgGo71gcDtD"
            },
            "source": [
                "### Examine a subset of incorrect samples\n",
                "Let's print out the (test id, predicted label, ground truth label, confidence) tuple of first 20 incorrectly labeled samples"
            ]
        },
        {
            "cell_type": "code",
            "execution_count": 60,
            "metadata": {
                "colab": {},
                "colab_type": "code",
                "id": "x37wNJsNbcw0"
            },
            "outputs": [
                {
                    "name": "stdout",
                    "output_type": "stream",
                    "text": [
                        "(1699, 'background', 'speech', 0.8332501649856567)\n",
                        "(1697, 'background', 'speech', 0.8338279128074646)\n",
                        "(1698, 'background', 'speech', 0.8362202048301697)\n",
                        "(1700, 'background', 'speech', 0.8417641520500183)\n",
                        "(1701, 'background', 'speech', 0.8420259952545166)\n",
                        "(1703, 'background', 'speech', 0.8424787521362305)\n",
                        "(1702, 'background', 'speech', 0.8425833582878113)\n",
                        "(1704, 'background', 'speech', 0.8483008742332458)\n",
                        "(1706, 'background', 'speech', 0.8490806818008423)\n",
                        "(1705, 'background', 'speech', 0.8509469032287598)\n",
                        "(1707, 'background', 'speech', 0.8561100363731384)\n",
                        "(1708, 'background', 'speech', 0.856202244758606)\n",
                        "(1713, 'background', 'speech', 0.8565935492515564)\n",
                        "(1709, 'background', 'speech', 0.8579553961753845)\n",
                        "(1710, 'background', 'speech', 0.8617070913314819)\n",
                        "(1711, 'background', 'speech', 0.8638396859169006)\n",
                        "(1712, 'background', 'speech', 0.8656777739524841)\n"
                    ]
                }
            ],
            "source": [
                "for incorrect_sample in incorrect_preds[:20]:\n",
                "    print(str(incorrect_sample))"
            ]
        },
        {
            "attachments": {},
            "cell_type": "markdown",
            "metadata": {
                "colab_type": "text",
                "id": "tDnwYsDKcLv9"
            },
            "source": [
                "###  Define a threshold below which we designate a model's prediction as \"low confidence\""
            ]
        },
        {
            "cell_type": "code",
            "execution_count": 61,
            "metadata": {
                "colab": {},
                "colab_type": "code",
                "id": "dpvzeh4PcGJs"
            },
            "outputs": [
                {
                    "name": "stdout",
                    "output_type": "stream",
                    "text": [
                        "Number of low confidence predictions : 0\n"
                    ]
                }
            ],
            "source": [
                "# Filter out how many such samples exist\n",
                "low_confidence_threshold = 0.8\n",
                "count_low_confidence = len(list(filter(lambda x: x[-1] <= low_confidence_threshold, incorrect_preds)))\n",
                "print(f\"Number of low confidence predictions : {count_low_confidence}\")"
            ]
        },
        {
            "attachments": {},
            "cell_type": "markdown",
            "metadata": {
                "colab_type": "text",
                "id": "ERXyXvCAcSKR"
            },
            "source": [
                "### Let's hear the samples which the model has least confidence in !"
            ]
        },
        {
            "cell_type": "code",
            "execution_count": 62,
            "metadata": {
                "colab": {},
                "colab_type": "code",
                "id": "kxjNVjX8cPNP"
            },
            "outputs": [],
            "source": [
                "# First let's create a helper function to parse the manifest files\n",
                "def parse_manifest(manifest):\n",
                "    data = []\n",
                "    for line in manifest:\n",
                "        line = json.loads(line)\n",
                "        data.append(line)\n",
                "\n",
                "    return data"
            ]
        },
        {
            "cell_type": "code",
            "execution_count": 63,
            "metadata": {
                "colab": {},
                "colab_type": "code",
                "id": "IWxqw5k-cUVd"
            },
            "outputs": [],
            "source": [
                "# Next, let's create a helper function to actually listen to certain samples\n",
                "def listen_to_file(sample_id, pred=None, label=None, proba=None):\n",
                "    # Load the audio waveform using librosa\n",
                "    filepath = test_samples[sample_id]['audio_filepath']\n",
                "    audio, sample_rate = librosa.load(filepath,\n",
                "                                      offset = test_samples[sample_id]['offset'],\n",
                "                                      duration = test_samples[sample_id]['duration'])\n",
                "\n",
                "\n",
                "    if pred is not None and label is not None and proba is not None:\n",
                "        print(f\"filepath: {filepath}, Sample : {sample_id} Prediction : {pred} Label : {label} Confidence = {proba: 0.4f}\")\n",
                "    else:\n",
                "        \n",
                "        print(f\"Sample : {sample_id}\")\n",
                "\n",
                "    return ipd.Audio(audio, rate=sample_rate)\n"
            ]
        },
        {
            "cell_type": "code",
            "execution_count": 64,
            "metadata": {
                "colab": {},
                "colab_type": "code",
                "id": "HPj1tFNIcXaU"
            },
            "outputs": [
                {
                    "name": "stdout",
                    "output_type": "stream",
                    "text": [
                        "data/manifest/balanced_background_testing_manifest.json\n",
                        "data/manifest/balanced_speech_testing_manifest.json\n",
                        "2003\n"
                    ]
                }
            ],
            "source": [
                "import json\n",
                "# Now let's load the test manifest into memory\n",
                "all_test_samples = []\n",
                "for _ in test_dataset.split(','):\n",
                "    print(_)\n",
                "    with open(_, 'r') as test_f:\n",
                "        test_samples = test_f.readlines()\n",
                "        \n",
                "        all_test_samples.extend(test_samples)\n",
                "print(len(all_test_samples))\n",
                "test_samples = parse_manifest(all_test_samples)"
            ]
        },
        {
            "cell_type": "code",
            "execution_count": 65,
            "metadata": {
                "colab": {},
                "colab_type": "code",
                "id": "Nt7b_uiScZcC"
            },
            "outputs": [],
            "source": [
                "# Finally, let's listen to all the audio samples where the model made a mistake\n",
                "# Note: This list of incorrect samples may be quite large, so you may choose to subsample `incorrect_preds`\n",
                "count = min(count_low_confidence, 20)  # replace this line with just `count_low_confidence` to listen to all samples with low confidence\n",
                "\n",
                "for sample_id, pred, label, proba in incorrect_preds[:count]:\n",
                "    ipd.display(listen_to_file(sample_id, pred=pred, label=label, proba=proba))"
            ]
        },
        {
            "attachments": {},
            "cell_type": "markdown",
            "metadata": {},
            "source": [
                "## Adding evaluation metrics\n",
                "\n",
                "Here is an example of how to use more metrics (e.g. from torchmetrics) to evaluate your result.\n",
                "\n",
                "**Note:** If you would like to add metrics for training and testing, have a look at \n",
                "```python\n",
                "NeMo/nemo/collections/common/metrics\n",
                "```\n"
            ]
        },
        {
            "cell_type": "code",
            "execution_count": 66,
            "metadata": {},
            "outputs": [],
            "source": [
                "from torchmetrics import ConfusionMatrix"
            ]
        },
        {
            "cell_type": "code",
            "execution_count": 67,
            "metadata": {},
            "outputs": [
                {
                    "data": {
                        "text/plain": [
                            "tensor([[ 370,    0],\n",
                            "        [  17, 1616]])"
                        ]
                    },
                    "execution_count": 67,
                    "metadata": {},
                    "output_type": "execute_result"
                }
            ],
            "source": [
                "_, pred = logits.topk(1, dim=1, largest=True, sorted=True)\n",
                "pred = pred.squeeze()\n",
                "metric = ConfusionMatrix(num_classes=2, task='binary')\n",
                "metric(pred, labels)\n",
                "# confusion_matrix(preds=pred, target=labels)"
            ]
        },
        {
            "attachments": {},
            "cell_type": "markdown",
            "metadata": {},
            "source": [
                "# Transfer Leaning & Fine-tuning on a new dataset\n",
                "For transfer learning, please refer to [**Transfer learning** part of ASR tutorial](https://github.com/NVIDIA/NeMo/blob/stable/tutorials/asr/ASR_with_NeMo.ipynb)\n",
                "\n",
                "More details on saving and restoring checkpoint, and exporting a model in its entirety, please refer to [**Fine-tuning on a new dataset** & **Advanced Usage parts** of Speech Command tutorial](https://github.com/NVIDIA/NeMo/blob/stable/tutorials/asr/Speech_Commands.ipynb)\n",
                "\n",
                "\n",
                "\n"
            ]
        },
        {
            "attachments": {},
            "cell_type": "markdown",
            "metadata": {
                "colab_type": "text",
                "id": "LyIegk2CPNsI"
            },
            "source": [
                "# Inference and more\n",
                "If you are interested in **pretrained** model and **streaming inference**, please have a look at our [VAD inference tutorial](https://github.com/NVIDIA/NeMo/blob/stable/tutorials/asr/Online_Offline_Microphone_VAD_Demo.ipynb) and script [vad_infer.py](https://github.com/NVIDIA/NeMo/blob/stable/examples/asr/speech_classification/vad_infer.py)\n"
            ]
        },
        {
            "attachments": {},
            "cell_type": "markdown",
            "metadata": {},
            "source": [
                "# Frame-VAD: More Effective and Efficient VAD for More Fine-grained Timestamps\n",
                "\n",
                "In this notebook, we are using the segment-VAD model, which predicts a single label for each short segment (0.63s), which is not optimal for some applications that require very precise timestamps. \n",
                "\n",
                "To get more precise timestamps, we can use a frame-VAD model, which predicts a label for each input frame (20ms). To prepare manifest for frame-VAD, you'll need to have `label` field in each manifest entry, which is a string of labels for each frame. For example, if you have a 1s audio file, you'll need to have 50 frame labels in the manifest entry like \"0 0 0 0 1 1 0 1 .... 0 1\".\n",
                "However, shorter label strings are also supported for smaller file sizes. For example, you can prepare the `label` in 40ms frame, and the model will properly repeat the label for each 20ms frame. \n",
                "\n",
                "The Frame-VAD model shares the same MarbleNet architecture as the segment-VAD model, but with a different input/output resolution and loss function. The frame-VAD model is trained with more data than segment-VAD and achieves better performance, as shown in the [NGC model card](https://catalog.ngc.nvidia.com/orgs/nvidia/teams/nemo/models/vad_multilingual_frame_marblenet). \n",
                "\n",
                "During inference, since frame-VAD model doesn't require splicing input into overlapping segments, it is more efficient than segment-VAD model, with 8x less GPU memory consumption.\n",
                "\n",
                "For more information on the frame-VAD model, please refer to the [README.md](https://github.com/NVIDIA/NeMo/blob/stable/examples/asr/speech_classification/README.md). For training and running inference on frame-VAD, please refer to [speech_to_frame_label.py](https://github.com/NVIDIA/NeMo/blob/stable/examples/asr/speech_classification/speech_to_frame_label.py) and [frame_vad_infer.py](https://github.com/NVIDIA/NeMo/blob/stable/examples/asr/speech_classification/frame_vad_infer.py)."
            ]
        }
    ],
    "metadata": {
        "accelerator": "GPU",
        "colab": {
            "collapsed_sections": [],
            "name": "Voice_Activity_Detection.ipynb",
            "provenance": [],
            "toc_visible": true
        },
        "kernelspec": {
            "display_name": "Python 3",
            "language": "python",
            "name": "python3"
        },
        "language_info": {
            "codemirror_mode": {
                "name": "ipython",
                "version": 3
            },
            "file_extension": ".py",
            "mimetype": "text/x-python",
            "name": "python",
            "nbconvert_exporter": "python",
            "pygments_lexer": "ipython3",
            "version": "3.11.9"
        },
        "pycharm": {
            "stem_cell": {
                "cell_type": "raw",
                "metadata": {
                    "collapsed": false
                },
                "source": []
            }
        }
    },
    "nbformat": 4,
    "nbformat_minor": 1
}
